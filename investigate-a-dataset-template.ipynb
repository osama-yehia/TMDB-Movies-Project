{
 "cells": [
  {
   "attachments": {},
   "cell_type": "markdown",
   "metadata": {},
   "source": [
    "\n",
    "\n",
    "# Project: Investigate a Dataset (TMDB movie data)\n",
    "\n",
    "## Table of Contents\n",
    "<ul>\n",
    "<li><a href=\"#intro\">Introduction</a></li>\n",
    "<li><a href=\"#wrangling\">Data Wrangling</a></li>\n",
    "<li><a href=\"#eda\">Exploratory Data Analysis</a></li>\n",
    "<li><a href=\"#conclusions\">Conclusions</a></li>\n",
    "</ul>"
   ]
  },
  {
   "attachments": {},
   "cell_type": "markdown",
   "metadata": {},
   "source": [
    "<a id='intro'></a>\n",
    "## Introduction\n",
    "\n",
    "> TMDB dataset contains information about 10000 movies from 1960 to 2015, this information includes (id, imdb, popularity, budget, revenue, original title, homepage, cast, director, tagline, overview, genre, production company, release date, vote count, vote avverage, release year, budget_adj, revenue_adj) for each movie.\n",
    "<br>\n",
    "<br>\n",
    "-id : (int) each movie in the data set has unique id.\n",
    "<br>\n",
    "-imbd_id : (object) describes the movie id on imdb site.\n",
    "<br>\n",
    "-popularity : (float) describes the popularity of the movie.\n",
    "<br>\n",
    "-budget : (int) the budget of the movie in dollars.\n",
    "<br>\n",
    "-revenue : (int) the revenue of the movie in dollars. \n",
    "<br>\n",
    "-original_title : (object)\n",
    "<br>\n",
    "-cast : (object) the cast of the movie with \"|\" delimeter.\n",
    "<br>\n",
    "-homepage : (object) the official web page of the movie.\n",
    "<br>\n",
    "-director : (object)\n",
    "<br>\n",
    "-tagline : (object)\n",
    "<br>\n",
    "-keywords : (object)\n",
    "<br>\n",
    "-overview : (object)\n",
    "<br>\n",
    "-runtime : (int) the length of the movie.\n",
    "<br>\n",
    "-genres : (object) the genres of the movie with \"|\" delimeter.\n",
    "<br>\n",
    "-production_companies : (object) the production companies with \"|\" delimeter.\n",
    "<br>\n",
    "-release_date : (object) the date of releasing the movie.\n",
    "<br>\n",
    "-vote_count : (int) the number of votings of the movie.\n",
    "<br>\n",
    "-vote_average : (float) average of the votings of the movie.\n",
    "<br>\n",
    "-release_year : (float) the releasing year of the movie.\n",
    "<br>\n",
    "-budget_adj : (float) the budget of the movie in terms of 2010 dollars.\n",
    "<br>\n",
    "-revenue_adj : (float) the revenue of the movie in terms of 2010 dollars.\n",
    "<br>\n",
    "<br>\n",
    "> Throughout TMDB dataset I'd like to answer some interesting questions.-what makes a movie is a good one?, is it revenue, ratings, popularity?to answer this question, for example popularity , which genre, director, production company, voting has most popular films and relations between budget and good movie\n",
    "<br>\n",
    "1- which director made the most popular movies?\n",
    "<br>\n",
    "2- which production company produced the most popular movies ?\n",
    "<br>\n",
    "3- which genre is the most popular among audience ?\n",
    "<br>\n",
    "4- In which year released the highest number of the movies?\n",
    "<br>\n",
    "5- which production company achieved the highest profits over years?\n",
    "<br>\n",
    "6- which genre achieved the highest profits over years\n",
    "<br>\n",
    "7- relations between variables?"
   ]
  },
  {
   "cell_type": "code",
   "execution_count": 97,
   "metadata": {
    "collapsed": true
   },
   "outputs": [],
   "source": [
    "#import the required libraies\n",
    "import pandas as pd\n",
    "import numpy as np\n",
    "import matplotlib.pyplot as plt\n",
    "%matplotlib inline\n",
    "import seaborn as sns\n"
   ]
  },
  {
   "attachments": {},
   "cell_type": "markdown",
   "metadata": {},
   "source": [
    "<a id='wrangling'></a>\n",
    "## Data Wrangling\n",
    "\n",
    "\n",
    "### General Properties"
   ]
  },
  {
   "cell_type": "code",
   "execution_count": 98,
   "metadata": {
    "collapsed": true
   },
   "outputs": [
    {
     "data": {
      "text/html": [
       "<div>\n",
       "<style scoped>\n",
       "    .dataframe tbody tr th:only-of-type {\n",
       "        vertical-align: middle;\n",
       "    }\n",
       "\n",
       "    .dataframe tbody tr th {\n",
       "        vertical-align: top;\n",
       "    }\n",
       "\n",
       "    .dataframe thead th {\n",
       "        text-align: right;\n",
       "    }\n",
       "</style>\n",
       "<table border=\"1\" class=\"dataframe\">\n",
       "  <thead>\n",
       "    <tr style=\"text-align: right;\">\n",
       "      <th></th>\n",
       "      <th>imdb_id</th>\n",
       "      <th>popularity</th>\n",
       "      <th>budget</th>\n",
       "      <th>revenue</th>\n",
       "      <th>original_title</th>\n",
       "      <th>cast</th>\n",
       "      <th>homepage</th>\n",
       "      <th>director</th>\n",
       "      <th>tagline</th>\n",
       "      <th>keywords</th>\n",
       "      <th>overview</th>\n",
       "      <th>runtime</th>\n",
       "      <th>genres</th>\n",
       "      <th>production_companies</th>\n",
       "      <th>release_date</th>\n",
       "      <th>vote_count</th>\n",
       "      <th>vote_average</th>\n",
       "      <th>release_year</th>\n",
       "      <th>budget_adj</th>\n",
       "      <th>revenue_adj</th>\n",
       "    </tr>\n",
       "    <tr>\n",
       "      <th>id</th>\n",
       "      <th></th>\n",
       "      <th></th>\n",
       "      <th></th>\n",
       "      <th></th>\n",
       "      <th></th>\n",
       "      <th></th>\n",
       "      <th></th>\n",
       "      <th></th>\n",
       "      <th></th>\n",
       "      <th></th>\n",
       "      <th></th>\n",
       "      <th></th>\n",
       "      <th></th>\n",
       "      <th></th>\n",
       "      <th></th>\n",
       "      <th></th>\n",
       "      <th></th>\n",
       "      <th></th>\n",
       "      <th></th>\n",
       "      <th></th>\n",
       "    </tr>\n",
       "  </thead>\n",
       "  <tbody>\n",
       "    <tr>\n",
       "      <th>135397</th>\n",
       "      <td>tt0369610</td>\n",
       "      <td>32.985763</td>\n",
       "      <td>150000000</td>\n",
       "      <td>1513528810</td>\n",
       "      <td>Jurassic World</td>\n",
       "      <td>Chris Pratt|Bryce Dallas Howard|Irrfan Khan|Vi...</td>\n",
       "      <td>http://www.jurassicworld.com/</td>\n",
       "      <td>Colin Trevorrow</td>\n",
       "      <td>The park is open.</td>\n",
       "      <td>monster|dna|tyrannosaurus rex|velociraptor|island</td>\n",
       "      <td>Twenty-two years after the events of Jurassic ...</td>\n",
       "      <td>124</td>\n",
       "      <td>Action|Adventure|Science Fiction|Thriller</td>\n",
       "      <td>Universal Studios|Amblin Entertainment|Legenda...</td>\n",
       "      <td>6/9/15</td>\n",
       "      <td>5562</td>\n",
       "      <td>6.5</td>\n",
       "      <td>2015</td>\n",
       "      <td>1.379999e+08</td>\n",
       "      <td>1.392446e+09</td>\n",
       "    </tr>\n",
       "    <tr>\n",
       "      <th>76341</th>\n",
       "      <td>tt1392190</td>\n",
       "      <td>28.419936</td>\n",
       "      <td>150000000</td>\n",
       "      <td>378436354</td>\n",
       "      <td>Mad Max: Fury Road</td>\n",
       "      <td>Tom Hardy|Charlize Theron|Hugh Keays-Byrne|Nic...</td>\n",
       "      <td>http://www.madmaxmovie.com/</td>\n",
       "      <td>George Miller</td>\n",
       "      <td>What a Lovely Day.</td>\n",
       "      <td>future|chase|post-apocalyptic|dystopia|australia</td>\n",
       "      <td>An apocalyptic story set in the furthest reach...</td>\n",
       "      <td>120</td>\n",
       "      <td>Action|Adventure|Science Fiction|Thriller</td>\n",
       "      <td>Village Roadshow Pictures|Kennedy Miller Produ...</td>\n",
       "      <td>5/13/15</td>\n",
       "      <td>6185</td>\n",
       "      <td>7.1</td>\n",
       "      <td>2015</td>\n",
       "      <td>1.379999e+08</td>\n",
       "      <td>3.481613e+08</td>\n",
       "    </tr>\n",
       "    <tr>\n",
       "      <th>262500</th>\n",
       "      <td>tt2908446</td>\n",
       "      <td>13.112507</td>\n",
       "      <td>110000000</td>\n",
       "      <td>295238201</td>\n",
       "      <td>Insurgent</td>\n",
       "      <td>Shailene Woodley|Theo James|Kate Winslet|Ansel...</td>\n",
       "      <td>http://www.thedivergentseries.movie/#insurgent</td>\n",
       "      <td>Robert Schwentke</td>\n",
       "      <td>One Choice Can Destroy You</td>\n",
       "      <td>based on novel|revolution|dystopia|sequel|dyst...</td>\n",
       "      <td>Beatrice Prior must confront her inner demons ...</td>\n",
       "      <td>119</td>\n",
       "      <td>Adventure|Science Fiction|Thriller</td>\n",
       "      <td>Summit Entertainment|Mandeville Films|Red Wago...</td>\n",
       "      <td>3/18/15</td>\n",
       "      <td>2480</td>\n",
       "      <td>6.3</td>\n",
       "      <td>2015</td>\n",
       "      <td>1.012000e+08</td>\n",
       "      <td>2.716190e+08</td>\n",
       "    </tr>\n",
       "  </tbody>\n",
       "</table>\n",
       "</div>"
      ],
      "text/plain": [
       "          imdb_id  popularity     budget     revenue      original_title  \\\n",
       "id                                                                         \n",
       "135397  tt0369610   32.985763  150000000  1513528810      Jurassic World   \n",
       "76341   tt1392190   28.419936  150000000   378436354  Mad Max: Fury Road   \n",
       "262500  tt2908446   13.112507  110000000   295238201           Insurgent   \n",
       "\n",
       "                                                     cast  \\\n",
       "id                                                          \n",
       "135397  Chris Pratt|Bryce Dallas Howard|Irrfan Khan|Vi...   \n",
       "76341   Tom Hardy|Charlize Theron|Hugh Keays-Byrne|Nic...   \n",
       "262500  Shailene Woodley|Theo James|Kate Winslet|Ansel...   \n",
       "\n",
       "                                              homepage          director  \\\n",
       "id                                                                         \n",
       "135397                   http://www.jurassicworld.com/   Colin Trevorrow   \n",
       "76341                      http://www.madmaxmovie.com/     George Miller   \n",
       "262500  http://www.thedivergentseries.movie/#insurgent  Robert Schwentke   \n",
       "\n",
       "                           tagline  \\\n",
       "id                                   \n",
       "135397           The park is open.   \n",
       "76341           What a Lovely Day.   \n",
       "262500  One Choice Can Destroy You   \n",
       "\n",
       "                                                 keywords  \\\n",
       "id                                                          \n",
       "135397  monster|dna|tyrannosaurus rex|velociraptor|island   \n",
       "76341    future|chase|post-apocalyptic|dystopia|australia   \n",
       "262500  based on novel|revolution|dystopia|sequel|dyst...   \n",
       "\n",
       "                                                 overview  runtime  \\\n",
       "id                                                                   \n",
       "135397  Twenty-two years after the events of Jurassic ...      124   \n",
       "76341   An apocalyptic story set in the furthest reach...      120   \n",
       "262500  Beatrice Prior must confront her inner demons ...      119   \n",
       "\n",
       "                                           genres  \\\n",
       "id                                                  \n",
       "135397  Action|Adventure|Science Fiction|Thriller   \n",
       "76341   Action|Adventure|Science Fiction|Thriller   \n",
       "262500         Adventure|Science Fiction|Thriller   \n",
       "\n",
       "                                     production_companies release_date  \\\n",
       "id                                                                       \n",
       "135397  Universal Studios|Amblin Entertainment|Legenda...       6/9/15   \n",
       "76341   Village Roadshow Pictures|Kennedy Miller Produ...      5/13/15   \n",
       "262500  Summit Entertainment|Mandeville Films|Red Wago...      3/18/15   \n",
       "\n",
       "        vote_count  vote_average  release_year    budget_adj   revenue_adj  \n",
       "id                                                                          \n",
       "135397        5562           6.5          2015  1.379999e+08  1.392446e+09  \n",
       "76341         6185           7.1          2015  1.379999e+08  3.481613e+08  \n",
       "262500        2480           6.3          2015  1.012000e+08  2.716190e+08  "
      ]
     },
     "execution_count": 98,
     "metadata": {},
     "output_type": "execute_result"
    }
   ],
   "source": [
    "#load data and make id column as a index\n",
    "df = pd.read_csv('tmdb-movies.csv', index_col='id')\n",
    "df.head(3)"
   ]
  },
  {
   "cell_type": "code",
   "execution_count": 99,
   "metadata": {},
   "outputs": [
    {
     "data": {
      "text/plain": [
       "(10866, 20)"
      ]
     },
     "execution_count": 99,
     "metadata": {},
     "output_type": "execute_result"
    }
   ],
   "source": [
    "#view dimoension of the dataframe\n",
    "df.shape"
   ]
  },
  {
   "cell_type": "code",
   "execution_count": 100,
   "metadata": {},
   "outputs": [
    {
     "data": {
      "text/plain": [
       "imdb_id                  object\n",
       "popularity              float64\n",
       "budget                    int64\n",
       "revenue                   int64\n",
       "original_title           object\n",
       "cast                     object\n",
       "homepage                 object\n",
       "director                 object\n",
       "tagline                  object\n",
       "keywords                 object\n",
       "overview                 object\n",
       "runtime                   int64\n",
       "genres                   object\n",
       "production_companies     object\n",
       "release_date             object\n",
       "vote_count                int64\n",
       "vote_average            float64\n",
       "release_year              int64\n",
       "budget_adj              float64\n",
       "revenue_adj             float64\n",
       "dtype: object"
      ]
     },
     "execution_count": 100,
     "metadata": {},
     "output_type": "execute_result"
    }
   ],
   "source": [
    "#view data types\n",
    "df.dtypes"
   ]
  },
  {
   "cell_type": "code",
   "execution_count": 101,
   "metadata": {},
   "outputs": [
    {
     "data": {
      "text/plain": [
       "imdb_id                 10855\n",
       "popularity              10814\n",
       "budget                    557\n",
       "revenue                  4702\n",
       "original_title          10571\n",
       "cast                    10719\n",
       "homepage                 2896\n",
       "director                 5067\n",
       "tagline                  7997\n",
       "keywords                 8804\n",
       "overview                10847\n",
       "runtime                   247\n",
       "genres                   2039\n",
       "production_companies     7445\n",
       "release_date             5909\n",
       "vote_count               1289\n",
       "vote_average               72\n",
       "release_year               56\n",
       "budget_adj               2614\n",
       "revenue_adj              4840\n",
       "dtype: int64"
      ]
     },
     "execution_count": 101,
     "metadata": {},
     "output_type": "execute_result"
    }
   ],
   "source": [
    "#view number of unique value for each variable\n",
    "df.nunique()"
   ]
  },
  {
   "cell_type": "code",
   "execution_count": 102,
   "metadata": {},
   "outputs": [
    {
     "name": "stdout",
     "output_type": "stream",
     "text": [
      "<class 'pandas.core.frame.DataFrame'>\n",
      "Int64Index: 10866 entries, 135397 to 22293\n",
      "Data columns (total 20 columns):\n",
      " #   Column                Non-Null Count  Dtype  \n",
      "---  ------                --------------  -----  \n",
      " 0   imdb_id               10856 non-null  object \n",
      " 1   popularity            10866 non-null  float64\n",
      " 2   budget                10866 non-null  int64  \n",
      " 3   revenue               10866 non-null  int64  \n",
      " 4   original_title        10866 non-null  object \n",
      " 5   cast                  10790 non-null  object \n",
      " 6   homepage              2936 non-null   object \n",
      " 7   director              10822 non-null  object \n",
      " 8   tagline               8042 non-null   object \n",
      " 9   keywords              9373 non-null   object \n",
      " 10  overview              10862 non-null  object \n",
      " 11  runtime               10866 non-null  int64  \n",
      " 12  genres                10843 non-null  object \n",
      " 13  production_companies  9836 non-null   object \n",
      " 14  release_date          10866 non-null  object \n",
      " 15  vote_count            10866 non-null  int64  \n",
      " 16  vote_average          10866 non-null  float64\n",
      " 17  release_year          10866 non-null  int64  \n",
      " 18  budget_adj            10866 non-null  float64\n",
      " 19  revenue_adj           10866 non-null  float64\n",
      "dtypes: float64(4), int64(5), object(11)\n",
      "memory usage: 1.7+ MB\n"
     ]
    },
    {
     "data": {
      "text/plain": [
       "imdb_id                   10\n",
       "popularity                 0\n",
       "budget                     0\n",
       "revenue                    0\n",
       "original_title             0\n",
       "cast                      76\n",
       "homepage                7930\n",
       "director                  44\n",
       "tagline                 2824\n",
       "keywords                1493\n",
       "overview                   4\n",
       "runtime                    0\n",
       "genres                    23\n",
       "production_companies    1030\n",
       "release_date               0\n",
       "vote_count                 0\n",
       "vote_average               0\n",
       "release_year               0\n",
       "budget_adj                 0\n",
       "revenue_adj                0\n",
       "dtype: int64"
      ]
     },
     "execution_count": 102,
     "metadata": {},
     "output_type": "execute_result"
    }
   ],
   "source": [
    "#check null values and get the sum of it\n",
    "df.info()\n",
    "df.isna().sum()"
   ]
  },
  {
   "cell_type": "code",
   "execution_count": 103,
   "metadata": {},
   "outputs": [
    {
     "data": {
      "text/plain": [
       "1"
      ]
     },
     "execution_count": 103,
     "metadata": {},
     "output_type": "execute_result"
    }
   ],
   "source": [
    "#get count of duplicated rows\n",
    "df.duplicated().sum()"
   ]
  },
  {
   "cell_type": "code",
   "execution_count": 104,
   "metadata": {},
   "outputs": [
    {
     "data": {
      "text/html": [
       "<div>\n",
       "<style scoped>\n",
       "    .dataframe tbody tr th:only-of-type {\n",
       "        vertical-align: middle;\n",
       "    }\n",
       "\n",
       "    .dataframe tbody tr th {\n",
       "        vertical-align: top;\n",
       "    }\n",
       "\n",
       "    .dataframe thead th {\n",
       "        text-align: right;\n",
       "    }\n",
       "</style>\n",
       "<table border=\"1\" class=\"dataframe\">\n",
       "  <thead>\n",
       "    <tr style=\"text-align: right;\">\n",
       "      <th></th>\n",
       "      <th>popularity</th>\n",
       "      <th>budget</th>\n",
       "      <th>revenue</th>\n",
       "      <th>runtime</th>\n",
       "      <th>vote_count</th>\n",
       "      <th>vote_average</th>\n",
       "      <th>release_year</th>\n",
       "      <th>budget_adj</th>\n",
       "      <th>revenue_adj</th>\n",
       "    </tr>\n",
       "  </thead>\n",
       "  <tbody>\n",
       "    <tr>\n",
       "      <th>count</th>\n",
       "      <td>10866.000000</td>\n",
       "      <td>1.086600e+04</td>\n",
       "      <td>1.086600e+04</td>\n",
       "      <td>10866.000000</td>\n",
       "      <td>10866.000000</td>\n",
       "      <td>10866.000000</td>\n",
       "      <td>10866.000000</td>\n",
       "      <td>1.086600e+04</td>\n",
       "      <td>1.086600e+04</td>\n",
       "    </tr>\n",
       "    <tr>\n",
       "      <th>mean</th>\n",
       "      <td>0.646441</td>\n",
       "      <td>1.462570e+07</td>\n",
       "      <td>3.982332e+07</td>\n",
       "      <td>102.070863</td>\n",
       "      <td>217.389748</td>\n",
       "      <td>5.974922</td>\n",
       "      <td>2001.322658</td>\n",
       "      <td>1.755104e+07</td>\n",
       "      <td>5.136436e+07</td>\n",
       "    </tr>\n",
       "    <tr>\n",
       "      <th>std</th>\n",
       "      <td>1.000185</td>\n",
       "      <td>3.091321e+07</td>\n",
       "      <td>1.170035e+08</td>\n",
       "      <td>31.381405</td>\n",
       "      <td>575.619058</td>\n",
       "      <td>0.935142</td>\n",
       "      <td>12.812941</td>\n",
       "      <td>3.430616e+07</td>\n",
       "      <td>1.446325e+08</td>\n",
       "    </tr>\n",
       "    <tr>\n",
       "      <th>min</th>\n",
       "      <td>0.000065</td>\n",
       "      <td>0.000000e+00</td>\n",
       "      <td>0.000000e+00</td>\n",
       "      <td>0.000000</td>\n",
       "      <td>10.000000</td>\n",
       "      <td>1.500000</td>\n",
       "      <td>1960.000000</td>\n",
       "      <td>0.000000e+00</td>\n",
       "      <td>0.000000e+00</td>\n",
       "    </tr>\n",
       "    <tr>\n",
       "      <th>25%</th>\n",
       "      <td>0.207583</td>\n",
       "      <td>0.000000e+00</td>\n",
       "      <td>0.000000e+00</td>\n",
       "      <td>90.000000</td>\n",
       "      <td>17.000000</td>\n",
       "      <td>5.400000</td>\n",
       "      <td>1995.000000</td>\n",
       "      <td>0.000000e+00</td>\n",
       "      <td>0.000000e+00</td>\n",
       "    </tr>\n",
       "    <tr>\n",
       "      <th>50%</th>\n",
       "      <td>0.383856</td>\n",
       "      <td>0.000000e+00</td>\n",
       "      <td>0.000000e+00</td>\n",
       "      <td>99.000000</td>\n",
       "      <td>38.000000</td>\n",
       "      <td>6.000000</td>\n",
       "      <td>2006.000000</td>\n",
       "      <td>0.000000e+00</td>\n",
       "      <td>0.000000e+00</td>\n",
       "    </tr>\n",
       "    <tr>\n",
       "      <th>75%</th>\n",
       "      <td>0.713817</td>\n",
       "      <td>1.500000e+07</td>\n",
       "      <td>2.400000e+07</td>\n",
       "      <td>111.000000</td>\n",
       "      <td>145.750000</td>\n",
       "      <td>6.600000</td>\n",
       "      <td>2011.000000</td>\n",
       "      <td>2.085325e+07</td>\n",
       "      <td>3.369710e+07</td>\n",
       "    </tr>\n",
       "    <tr>\n",
       "      <th>max</th>\n",
       "      <td>32.985763</td>\n",
       "      <td>4.250000e+08</td>\n",
       "      <td>2.781506e+09</td>\n",
       "      <td>900.000000</td>\n",
       "      <td>9767.000000</td>\n",
       "      <td>9.200000</td>\n",
       "      <td>2015.000000</td>\n",
       "      <td>4.250000e+08</td>\n",
       "      <td>2.827124e+09</td>\n",
       "    </tr>\n",
       "  </tbody>\n",
       "</table>\n",
       "</div>"
      ],
      "text/plain": [
       "         popularity        budget       revenue       runtime    vote_count  \\\n",
       "count  10866.000000  1.086600e+04  1.086600e+04  10866.000000  10866.000000   \n",
       "mean       0.646441  1.462570e+07  3.982332e+07    102.070863    217.389748   \n",
       "std        1.000185  3.091321e+07  1.170035e+08     31.381405    575.619058   \n",
       "min        0.000065  0.000000e+00  0.000000e+00      0.000000     10.000000   \n",
       "25%        0.207583  0.000000e+00  0.000000e+00     90.000000     17.000000   \n",
       "50%        0.383856  0.000000e+00  0.000000e+00     99.000000     38.000000   \n",
       "75%        0.713817  1.500000e+07  2.400000e+07    111.000000    145.750000   \n",
       "max       32.985763  4.250000e+08  2.781506e+09    900.000000   9767.000000   \n",
       "\n",
       "       vote_average  release_year    budget_adj   revenue_adj  \n",
       "count  10866.000000  10866.000000  1.086600e+04  1.086600e+04  \n",
       "mean       5.974922   2001.322658  1.755104e+07  5.136436e+07  \n",
       "std        0.935142     12.812941  3.430616e+07  1.446325e+08  \n",
       "min        1.500000   1960.000000  0.000000e+00  0.000000e+00  \n",
       "25%        5.400000   1995.000000  0.000000e+00  0.000000e+00  \n",
       "50%        6.000000   2006.000000  0.000000e+00  0.000000e+00  \n",
       "75%        6.600000   2011.000000  2.085325e+07  3.369710e+07  \n",
       "max        9.200000   2015.000000  4.250000e+08  2.827124e+09  "
      ]
     },
     "execution_count": 104,
     "metadata": {},
     "output_type": "execute_result"
    }
   ],
   "source": [
    "#overview statistics of data briefly\n",
    "df.describe()"
   ]
  },
  {
   "cell_type": "code",
   "execution_count": 105,
   "metadata": {},
   "outputs": [
    {
     "data": {
      "text/plain": [
       "array([[<AxesSubplot:title={'center':'popularity'}>,\n",
       "        <AxesSubplot:title={'center':'budget'}>,\n",
       "        <AxesSubplot:title={'center':'revenue'}>],\n",
       "       [<AxesSubplot:title={'center':'runtime'}>,\n",
       "        <AxesSubplot:title={'center':'vote_count'}>,\n",
       "        <AxesSubplot:title={'center':'vote_average'}>],\n",
       "       [<AxesSubplot:title={'center':'release_year'}>,\n",
       "        <AxesSubplot:title={'center':'budget_adj'}>,\n",
       "        <AxesSubplot:title={'center':'revenue_adj'}>]], dtype=object)"
      ]
     },
     "execution_count": 105,
     "metadata": {},
     "output_type": "execute_result"
    },
    {
     "data": {
      "image/png": "[encoded data removed]",
      "text/plain": [
       "<Figure size 1200x1200 with 9 Axes>"
      ]
     },
     "metadata": {},
     "output_type": "display_data"
    }
   ],
   "source": [
    "#overview the distribution of data\n",
    "df.hist(figsize=[12,12])"
   ]
  },
  {
   "cell_type": "code",
   "execution_count": 106,
   "metadata": {},
   "outputs": [
    {
     "data": {
      "text/html": [
       "<div>\n",
       "<style scoped>\n",
       "    .dataframe tbody tr th:only-of-type {\n",
       "        vertical-align: middle;\n",
       "    }\n",
       "\n",
       "    .dataframe tbody tr th {\n",
       "        vertical-align: top;\n",
       "    }\n",
       "\n",
       "    .dataframe thead th {\n",
       "        text-align: right;\n",
       "    }\n",
       "</style>\n",
       "<table border=\"1\" class=\"dataframe\">\n",
       "  <thead>\n",
       "    <tr style=\"text-align: right;\">\n",
       "      <th></th>\n",
       "      <th>imdb_id</th>\n",
       "      <th>popularity</th>\n",
       "      <th>budget</th>\n",
       "      <th>revenue</th>\n",
       "      <th>original_title</th>\n",
       "      <th>cast</th>\n",
       "      <th>homepage</th>\n",
       "      <th>director</th>\n",
       "      <th>tagline</th>\n",
       "      <th>keywords</th>\n",
       "      <th>overview</th>\n",
       "      <th>runtime</th>\n",
       "      <th>genres</th>\n",
       "      <th>production_companies</th>\n",
       "      <th>release_date</th>\n",
       "      <th>vote_count</th>\n",
       "      <th>vote_average</th>\n",
       "      <th>release_year</th>\n",
       "      <th>budget_adj</th>\n",
       "      <th>revenue_adj</th>\n",
       "    </tr>\n",
       "    <tr>\n",
       "      <th>id</th>\n",
       "      <th></th>\n",
       "      <th></th>\n",
       "      <th></th>\n",
       "      <th></th>\n",
       "      <th></th>\n",
       "      <th></th>\n",
       "      <th></th>\n",
       "      <th></th>\n",
       "      <th></th>\n",
       "      <th></th>\n",
       "      <th></th>\n",
       "      <th></th>\n",
       "      <th></th>\n",
       "      <th></th>\n",
       "      <th></th>\n",
       "      <th></th>\n",
       "      <th></th>\n",
       "      <th></th>\n",
       "      <th></th>\n",
       "      <th></th>\n",
       "    </tr>\n",
       "  </thead>\n",
       "  <tbody>\n",
       "    <tr>\n",
       "      <th>280996</th>\n",
       "      <td>tt3168230</td>\n",
       "      <td>3.927333</td>\n",
       "      <td>0</td>\n",
       "      <td>29355203</td>\n",
       "      <td>Mr. Holmes</td>\n",
       "      <td>Ian McKellen|Milo Parker|Laura Linney|Hattie M...</td>\n",
       "      <td>http://www.mrholmesfilm.com/</td>\n",
       "      <td>Bill Condon</td>\n",
       "      <td>The man behind the myth</td>\n",
       "      <td>london|detective|sherlock holmes</td>\n",
       "      <td>The story is set in 1947, following a long-ret...</td>\n",
       "      <td>103</td>\n",
       "      <td>Mystery|Drama</td>\n",
       "      <td>BBC Films|See-Saw Films|FilmNation Entertainme...</td>\n",
       "      <td>6/19/15</td>\n",
       "      <td>425</td>\n",
       "      <td>6.4</td>\n",
       "      <td>2015</td>\n",
       "      <td>0.0</td>\n",
       "      <td>2.700677e+07</td>\n",
       "    </tr>\n",
       "    <tr>\n",
       "      <th>339527</th>\n",
       "      <td>tt1291570</td>\n",
       "      <td>3.358321</td>\n",
       "      <td>0</td>\n",
       "      <td>22354572</td>\n",
       "      <td>Solace</td>\n",
       "      <td>Abbie Cornish|Jeffrey Dean Morgan|Colin Farrel...</td>\n",
       "      <td>NaN</td>\n",
       "      <td>Afonso Poyart</td>\n",
       "      <td>A serial killer who can see your future, a psy...</td>\n",
       "      <td>thriller|serial killer|psychic|fbi agent|intrigue</td>\n",
       "      <td>A psychic doctor, John Clancy, works with an F...</td>\n",
       "      <td>101</td>\n",
       "      <td>Crime|Drama|Mystery</td>\n",
       "      <td>Eden Rock Media|FilmNation Entertainment|Flynn...</td>\n",
       "      <td>9/3/15</td>\n",
       "      <td>474</td>\n",
       "      <td>6.2</td>\n",
       "      <td>2015</td>\n",
       "      <td>0.0</td>\n",
       "      <td>2.056620e+07</td>\n",
       "    </tr>\n",
       "    <tr>\n",
       "      <th>284289</th>\n",
       "      <td>tt2911668</td>\n",
       "      <td>2.272044</td>\n",
       "      <td>0</td>\n",
       "      <td>45895</td>\n",
       "      <td>Beyond the Reach</td>\n",
       "      <td>Michael Douglas|Jeremy Irvine|Hanna Mangan Law...</td>\n",
       "      <td>NaN</td>\n",
       "      <td>Jean-Baptiste LÃ©onetti</td>\n",
       "      <td>NaN</td>\n",
       "      <td>desert|hunting</td>\n",
       "      <td>A high-rolling corporate shark and his impover...</td>\n",
       "      <td>95</td>\n",
       "      <td>Thriller</td>\n",
       "      <td>Furthur Films</td>\n",
       "      <td>4/17/15</td>\n",
       "      <td>81</td>\n",
       "      <td>5.5</td>\n",
       "      <td>2015</td>\n",
       "      <td>0.0</td>\n",
       "      <td>4.222338e+04</td>\n",
       "    </tr>\n",
       "    <tr>\n",
       "      <th>347096</th>\n",
       "      <td>tt3478232</td>\n",
       "      <td>2.165433</td>\n",
       "      <td>0</td>\n",
       "      <td>0</td>\n",
       "      <td>Mythica: The Darkspore</td>\n",
       "      <td>Melanie Stone|Kevin Sorbo|Adam Johnson|Jake St...</td>\n",
       "      <td>http://www.mythicamovie.com/#!blank/wufvh</td>\n",
       "      <td>Anne K. Black</td>\n",
       "      <td>NaN</td>\n",
       "      <td>sword|magic|sorcery|necromancer|woman director</td>\n",
       "      <td>When Teelaâ€™s sister is murdered and a powerf...</td>\n",
       "      <td>108</td>\n",
       "      <td>Action|Adventure|Fantasy</td>\n",
       "      <td>Arrowstorm Entertainment</td>\n",
       "      <td>6/24/15</td>\n",
       "      <td>27</td>\n",
       "      <td>5.1</td>\n",
       "      <td>2015</td>\n",
       "      <td>0.0</td>\n",
       "      <td>0.000000e+00</td>\n",
       "    </tr>\n",
       "    <tr>\n",
       "      <th>308369</th>\n",
       "      <td>tt2582496</td>\n",
       "      <td>2.141506</td>\n",
       "      <td>0</td>\n",
       "      <td>0</td>\n",
       "      <td>Me and Earl and the Dying Girl</td>\n",
       "      <td>Thomas Mann|RJ Cyler|Olivia Cooke|Connie Britt...</td>\n",
       "      <td>http://www.foxsearchlight.com/meandearlandthed...</td>\n",
       "      <td>Alfonso Gomez-Rejon</td>\n",
       "      <td>A Little Friendship Never Killed Anyone.</td>\n",
       "      <td>tattoo|high school|leukemia|friends|parody</td>\n",
       "      <td>Greg is coasting through senior year of high s...</td>\n",
       "      <td>105</td>\n",
       "      <td>Comedy|Drama</td>\n",
       "      <td>Indian Paintbrush</td>\n",
       "      <td>6/12/15</td>\n",
       "      <td>569</td>\n",
       "      <td>7.7</td>\n",
       "      <td>2015</td>\n",
       "      <td>0.0</td>\n",
       "      <td>0.000000e+00</td>\n",
       "    </tr>\n",
       "    <tr>\n",
       "      <th>...</th>\n",
       "      <td>...</td>\n",
       "      <td>...</td>\n",
       "      <td>...</td>\n",
       "      <td>...</td>\n",
       "      <td>...</td>\n",
       "      <td>...</td>\n",
       "      <td>...</td>\n",
       "      <td>...</td>\n",
       "      <td>...</td>\n",
       "      <td>...</td>\n",
       "      <td>...</td>\n",
       "      <td>...</td>\n",
       "      <td>...</td>\n",
       "      <td>...</td>\n",
       "      <td>...</td>\n",
       "      <td>...</td>\n",
       "      <td>...</td>\n",
       "      <td>...</td>\n",
       "      <td>...</td>\n",
       "      <td>...</td>\n",
       "    </tr>\n",
       "    <tr>\n",
       "      <th>5060</th>\n",
       "      <td>tt0060214</td>\n",
       "      <td>0.087034</td>\n",
       "      <td>0</td>\n",
       "      <td>0</td>\n",
       "      <td>Carry On Screaming!</td>\n",
       "      <td>Kenneth Williams|Jim Dale|Harry H. Corbett|Joa...</td>\n",
       "      <td>NaN</td>\n",
       "      <td>Gerald Thomas</td>\n",
       "      <td>Carry On Screaming with the Hilarious CARRY ON...</td>\n",
       "      <td>monster|carry on|horror spoof</td>\n",
       "      <td>The sinister Dr Watt has an evil scheme going....</td>\n",
       "      <td>87</td>\n",
       "      <td>Comedy</td>\n",
       "      <td>Peter Rogers Productions|Anglo-Amalgamated Fil...</td>\n",
       "      <td>5/20/66</td>\n",
       "      <td>13</td>\n",
       "      <td>7.0</td>\n",
       "      <td>1966</td>\n",
       "      <td>0.0</td>\n",
       "      <td>0.000000e+00</td>\n",
       "    </tr>\n",
       "    <tr>\n",
       "      <th>21</th>\n",
       "      <td>tt0060371</td>\n",
       "      <td>0.080598</td>\n",
       "      <td>0</td>\n",
       "      <td>0</td>\n",
       "      <td>The Endless Summer</td>\n",
       "      <td>Michael Hynson|Robert August|Lord 'Tally Ho' B...</td>\n",
       "      <td>NaN</td>\n",
       "      <td>Bruce Brown</td>\n",
       "      <td>NaN</td>\n",
       "      <td>surfer|surfboard|surfing</td>\n",
       "      <td>The Endless Summer, by Bruce Brown, is one of ...</td>\n",
       "      <td>95</td>\n",
       "      <td>Documentary</td>\n",
       "      <td>Bruce Brown Films</td>\n",
       "      <td>6/15/66</td>\n",
       "      <td>11</td>\n",
       "      <td>7.4</td>\n",
       "      <td>1966</td>\n",
       "      <td>0.0</td>\n",
       "      <td>0.000000e+00</td>\n",
       "    </tr>\n",
       "    <tr>\n",
       "      <th>20379</th>\n",
       "      <td>tt0060472</td>\n",
       "      <td>0.065543</td>\n",
       "      <td>0</td>\n",
       "      <td>0</td>\n",
       "      <td>Grand Prix</td>\n",
       "      <td>James Garner|Eva Marie Saint|Yves Montand|Tosh...</td>\n",
       "      <td>NaN</td>\n",
       "      <td>John Frankenheimer</td>\n",
       "      <td>Cinerama sweeps YOU into a drama of speed and ...</td>\n",
       "      <td>car race|racing|formula 1</td>\n",
       "      <td>Grand Prix driver Pete Aron is fired by his te...</td>\n",
       "      <td>176</td>\n",
       "      <td>Action|Adventure|Drama</td>\n",
       "      <td>Cherokee Productions|Joel Productions|Douglas ...</td>\n",
       "      <td>12/21/66</td>\n",
       "      <td>20</td>\n",
       "      <td>5.7</td>\n",
       "      <td>1966</td>\n",
       "      <td>0.0</td>\n",
       "      <td>0.000000e+00</td>\n",
       "    </tr>\n",
       "    <tr>\n",
       "      <th>39768</th>\n",
       "      <td>tt0060161</td>\n",
       "      <td>0.065141</td>\n",
       "      <td>0</td>\n",
       "      <td>0</td>\n",
       "      <td>Beregis Avtomobilya</td>\n",
       "      <td>Innokentiy Smoktunovskiy|Oleg Efremov|Georgi Z...</td>\n",
       "      <td>NaN</td>\n",
       "      <td>Eldar Ryazanov</td>\n",
       "      <td>NaN</td>\n",
       "      <td>car|trolley|stealing car</td>\n",
       "      <td>An insurance agent who moonlights as a carthie...</td>\n",
       "      <td>94</td>\n",
       "      <td>Mystery|Comedy</td>\n",
       "      <td>Mosfilm</td>\n",
       "      <td>1/1/66</td>\n",
       "      <td>11</td>\n",
       "      <td>6.5</td>\n",
       "      <td>1966</td>\n",
       "      <td>0.0</td>\n",
       "      <td>0.000000e+00</td>\n",
       "    </tr>\n",
       "    <tr>\n",
       "      <th>21449</th>\n",
       "      <td>tt0061177</td>\n",
       "      <td>0.064317</td>\n",
       "      <td>0</td>\n",
       "      <td>0</td>\n",
       "      <td>What's Up, Tiger Lily?</td>\n",
       "      <td>Tatsuya Mihashi|Akiko Wakabayashi|Mie Hama|Joh...</td>\n",
       "      <td>NaN</td>\n",
       "      <td>Woody Allen</td>\n",
       "      <td>WOODY ALLEN STRIKES BACK!</td>\n",
       "      <td>spoof</td>\n",
       "      <td>In comic Woody Allen's film debut, he took the...</td>\n",
       "      <td>80</td>\n",
       "      <td>Action|Comedy</td>\n",
       "      <td>Benedict Pictures Corp.</td>\n",
       "      <td>11/2/66</td>\n",
       "      <td>22</td>\n",
       "      <td>5.4</td>\n",
       "      <td>1966</td>\n",
       "      <td>0.0</td>\n",
       "      <td>0.000000e+00</td>\n",
       "    </tr>\n",
       "  </tbody>\n",
       "</table>\n",
       "<p>5696 rows × 20 columns</p>\n",
       "</div>"
      ],
      "text/plain": [
       "          imdb_id  popularity  budget   revenue  \\\n",
       "id                                                \n",
       "280996  tt3168230    3.927333       0  29355203   \n",
       "339527  tt1291570    3.358321       0  22354572   \n",
       "284289  tt2911668    2.272044       0     45895   \n",
       "347096  tt3478232    2.165433       0         0   \n",
       "308369  tt2582496    2.141506       0         0   \n",
       "...           ...         ...     ...       ...   \n",
       "5060    tt0060214    0.087034       0         0   \n",
       "21      tt0060371    0.080598       0         0   \n",
       "20379   tt0060472    0.065543       0         0   \n",
       "39768   tt0060161    0.065141       0         0   \n",
       "21449   tt0061177    0.064317       0         0   \n",
       "\n",
       "                        original_title  \\\n",
       "id                                       \n",
       "280996                      Mr. Holmes   \n",
       "339527                          Solace   \n",
       "284289                Beyond the Reach   \n",
       "347096          Mythica: The Darkspore   \n",
       "308369  Me and Earl and the Dying Girl   \n",
       "...                                ...   \n",
       "5060               Carry On Screaming!   \n",
       "21                  The Endless Summer   \n",
       "20379                       Grand Prix   \n",
       "39768              Beregis Avtomobilya   \n",
       "21449           What's Up, Tiger Lily?   \n",
       "\n",
       "                                                     cast  \\\n",
       "id                                                          \n",
       "280996  Ian McKellen|Milo Parker|Laura Linney|Hattie M...   \n",
       "339527  Abbie Cornish|Jeffrey Dean Morgan|Colin Farrel...   \n",
       "284289  Michael Douglas|Jeremy Irvine|Hanna Mangan Law...   \n",
       "347096  Melanie Stone|Kevin Sorbo|Adam Johnson|Jake St...   \n",
       "308369  Thomas Mann|RJ Cyler|Olivia Cooke|Connie Britt...   \n",
       "...                                                   ...   \n",
       "5060    Kenneth Williams|Jim Dale|Harry H. Corbett|Joa...   \n",
       "21      Michael Hynson|Robert August|Lord 'Tally Ho' B...   \n",
       "20379   James Garner|Eva Marie Saint|Yves Montand|Tosh...   \n",
       "39768   Innokentiy Smoktunovskiy|Oleg Efremov|Georgi Z...   \n",
       "21449   Tatsuya Mihashi|Akiko Wakabayashi|Mie Hama|Joh...   \n",
       "\n",
       "                                                 homepage  \\\n",
       "id                                                          \n",
       "280996                       http://www.mrholmesfilm.com/   \n",
       "339527                                                NaN   \n",
       "284289                                                NaN   \n",
       "347096          http://www.mythicamovie.com/#!blank/wufvh   \n",
       "308369  http://www.foxsearchlight.com/meandearlandthed...   \n",
       "...                                                   ...   \n",
       "5060                                                  NaN   \n",
       "21                                                    NaN   \n",
       "20379                                                 NaN   \n",
       "39768                                                 NaN   \n",
       "21449                                                 NaN   \n",
       "\n",
       "                       director  \\\n",
       "id                                \n",
       "280996              Bill Condon   \n",
       "339527            Afonso Poyart   \n",
       "284289  Jean-Baptiste LÃ©onetti   \n",
       "347096            Anne K. Black   \n",
       "308369      Alfonso Gomez-Rejon   \n",
       "...                         ...   \n",
       "5060              Gerald Thomas   \n",
       "21                  Bruce Brown   \n",
       "20379        John Frankenheimer   \n",
       "39768            Eldar Ryazanov   \n",
       "21449               Woody Allen   \n",
       "\n",
       "                                                  tagline  \\\n",
       "id                                                          \n",
       "280996                            The man behind the myth   \n",
       "339527  A serial killer who can see your future, a psy...   \n",
       "284289                                                NaN   \n",
       "347096                                                NaN   \n",
       "308369           A Little Friendship Never Killed Anyone.   \n",
       "...                                                   ...   \n",
       "5060    Carry On Screaming with the Hilarious CARRY ON...   \n",
       "21                                                    NaN   \n",
       "20379   Cinerama sweeps YOU into a drama of speed and ...   \n",
       "39768                                                 NaN   \n",
       "21449                           WOODY ALLEN STRIKES BACK!   \n",
       "\n",
       "                                                 keywords  \\\n",
       "id                                                          \n",
       "280996                   london|detective|sherlock holmes   \n",
       "339527  thriller|serial killer|psychic|fbi agent|intrigue   \n",
       "284289                                     desert|hunting   \n",
       "347096     sword|magic|sorcery|necromancer|woman director   \n",
       "308369         tattoo|high school|leukemia|friends|parody   \n",
       "...                                                   ...   \n",
       "5060                        monster|carry on|horror spoof   \n",
       "21                               surfer|surfboard|surfing   \n",
       "20379                           car race|racing|formula 1   \n",
       "39768                            car|trolley|stealing car   \n",
       "21449                                               spoof   \n",
       "\n",
       "                                                 overview  runtime  \\\n",
       "id                                                                   \n",
       "280996  The story is set in 1947, following a long-ret...      103   \n",
       "339527  A psychic doctor, John Clancy, works with an F...      101   \n",
       "284289  A high-rolling corporate shark and his impover...       95   \n",
       "347096  When Teelaâ€™s sister is murdered and a powerf...      108   \n",
       "308369  Greg is coasting through senior year of high s...      105   \n",
       "...                                                   ...      ...   \n",
       "5060    The sinister Dr Watt has an evil scheme going....       87   \n",
       "21      The Endless Summer, by Bruce Brown, is one of ...       95   \n",
       "20379   Grand Prix driver Pete Aron is fired by his te...      176   \n",
       "39768   An insurance agent who moonlights as a carthie...       94   \n",
       "21449   In comic Woody Allen's film debut, he took the...       80   \n",
       "\n",
       "                          genres  \\\n",
       "id                                 \n",
       "280996             Mystery|Drama   \n",
       "339527       Crime|Drama|Mystery   \n",
       "284289                  Thriller   \n",
       "347096  Action|Adventure|Fantasy   \n",
       "308369              Comedy|Drama   \n",
       "...                          ...   \n",
       "5060                      Comedy   \n",
       "21                   Documentary   \n",
       "20379     Action|Adventure|Drama   \n",
       "39768             Mystery|Comedy   \n",
       "21449              Action|Comedy   \n",
       "\n",
       "                                     production_companies release_date  \\\n",
       "id                                                                       \n",
       "280996  BBC Films|See-Saw Films|FilmNation Entertainme...      6/19/15   \n",
       "339527  Eden Rock Media|FilmNation Entertainment|Flynn...       9/3/15   \n",
       "284289                                      Furthur Films      4/17/15   \n",
       "347096                           Arrowstorm Entertainment      6/24/15   \n",
       "308369                                  Indian Paintbrush      6/12/15   \n",
       "...                                                   ...          ...   \n",
       "5060    Peter Rogers Productions|Anglo-Amalgamated Fil...      5/20/66   \n",
       "21                                      Bruce Brown Films      6/15/66   \n",
       "20379   Cherokee Productions|Joel Productions|Douglas ...     12/21/66   \n",
       "39768                                             Mosfilm       1/1/66   \n",
       "21449                             Benedict Pictures Corp.      11/2/66   \n",
       "\n",
       "        vote_count  vote_average  release_year  budget_adj   revenue_adj  \n",
       "id                                                                        \n",
       "280996         425           6.4          2015         0.0  2.700677e+07  \n",
       "339527         474           6.2          2015         0.0  2.056620e+07  \n",
       "284289          81           5.5          2015         0.0  4.222338e+04  \n",
       "347096          27           5.1          2015         0.0  0.000000e+00  \n",
       "308369         569           7.7          2015         0.0  0.000000e+00  \n",
       "...            ...           ...           ...         ...           ...  \n",
       "5060            13           7.0          1966         0.0  0.000000e+00  \n",
       "21              11           7.4          1966         0.0  0.000000e+00  \n",
       "20379           20           5.7          1966         0.0  0.000000e+00  \n",
       "39768           11           6.5          1966         0.0  0.000000e+00  \n",
       "21449           22           5.4          1966         0.0  0.000000e+00  \n",
       "\n",
       "[5696 rows x 20 columns]"
      ]
     },
     "execution_count": 106,
     "metadata": {},
     "output_type": "execute_result"
    }
   ],
   "source": [
    "#In revenue & budget histogram most values are around zero so I check it \n",
    "zero_budget = df.query('budget == 0')\n",
    "zero_budget"
   ]
  },
  {
   "attachments": {},
   "cell_type": "markdown",
   "metadata": {},
   "source": [
    "\n",
    "### Data Cleaning (Remove duplicated rows, remove unused columns)"
   ]
  },
  {
   "cell_type": "code",
   "execution_count": 107,
   "metadata": {},
   "outputs": [],
   "source": [
    "#remove duplicated row\n",
    "df_cleaned = df.drop_duplicates(inplace=True)"
   ]
  },
  {
   "cell_type": "code",
   "execution_count": 108,
   "metadata": {},
   "outputs": [],
   "source": [
    "#remove unnecessary colummns\n",
    "df_cleaned = df.drop(['imdb_id', 'homepage', 'keywords', 'overview', 'budget_adj', 'revenue_adj'], axis=1)"
   ]
  },
  {
   "cell_type": "code",
   "execution_count": 109,
   "metadata": {},
   "outputs": [
    {
     "data": {
      "text/plain": [
       "(10865, 14)"
      ]
     },
     "execution_count": 109,
     "metadata": {},
     "output_type": "execute_result"
    }
   ],
   "source": [
    "#check cleaning process\n",
    "df_cleaned.shape"
   ]
  },
  {
   "cell_type": "code",
   "execution_count": 110,
   "metadata": {},
   "outputs": [
    {
     "data": {
      "text/plain": [
       "0"
      ]
     },
     "execution_count": 110,
     "metadata": {},
     "output_type": "execute_result"
    }
   ],
   "source": [
    "#check duplicated rows\n",
    "df_cleaned.duplicated().sum()"
   ]
  },
  {
   "attachments": {},
   "cell_type": "markdown",
   "metadata": {},
   "source": [
    "<a id='eda'></a>\n",
    "## Exploratory Data Analysis\n",
    "\n",
    "\n",
    "### Research Question 1 (which director made the most popular movies?)"
   ]
  },
  {
   "cell_type": "code",
   "execution_count": 111,
   "metadata": {},
   "outputs": [
    {
     "data": {
      "text/plain": [
       "original_title    10571\n",
       "director           5067\n",
       "popularity        10814\n",
       "release_year         56\n",
       "dtype: int64"
      ]
     },
     "execution_count": 111,
     "metadata": {},
     "output_type": "execute_result"
    }
   ],
   "source": [
    "#check the data in popular_director dataframe\n",
    "#I found number of original_title unique values = 10571 != 10865(number of rows in df)\n",
    "popular_director = df_cleaned[['original_title', 'director', 'popularity','release_year']]\n",
    "popular_director.nunique()"
   ]
  },
  {
   "cell_type": "code",
   "execution_count": 112,
   "metadata": {},
   "outputs": [
    {
     "data": {
      "text/plain": [
       "0"
      ]
     },
     "execution_count": 112,
     "metadata": {},
     "output_type": "execute_result"
    }
   ],
   "source": [
    "#check null values\n",
    "popular_director['original_title'].isna().sum()"
   ]
  },
  {
   "cell_type": "code",
   "execution_count": 113,
   "metadata": {},
   "outputs": [
    {
     "data": {
      "text/plain": [
       "294"
      ]
     },
     "execution_count": 113,
     "metadata": {},
     "output_type": "execute_result"
    }
   ],
   "source": [
    "#check duplicated rows in original_title column\n",
    "popular_director['original_title'].duplicated().sum()"
   ]
  },
  {
   "cell_type": "code",
   "execution_count": 114,
   "metadata": {},
   "outputs": [
    {
     "data": {
      "text/html": [
       "<div>\n",
       "<style scoped>\n",
       "    .dataframe tbody tr th:only-of-type {\n",
       "        vertical-align: middle;\n",
       "    }\n",
       "\n",
       "    .dataframe tbody tr th {\n",
       "        vertical-align: top;\n",
       "    }\n",
       "\n",
       "    .dataframe thead th {\n",
       "        text-align: right;\n",
       "    }\n",
       "</style>\n",
       "<table border=\"1\" class=\"dataframe\">\n",
       "  <thead>\n",
       "    <tr style=\"text-align: right;\">\n",
       "      <th></th>\n",
       "      <th>original_title</th>\n",
       "      <th>director</th>\n",
       "      <th>popularity</th>\n",
       "      <th>release_year</th>\n",
       "    </tr>\n",
       "    <tr>\n",
       "      <th>id</th>\n",
       "      <th></th>\n",
       "      <th></th>\n",
       "      <th></th>\n",
       "      <th></th>\n",
       "    </tr>\n",
       "  </thead>\n",
       "  <tbody>\n",
       "    <tr>\n",
       "      <th>281778</th>\n",
       "      <td>Survivor</td>\n",
       "      <td>John Lyde</td>\n",
       "      <td>0.188264</td>\n",
       "      <td>2014</td>\n",
       "    </tr>\n",
       "    <tr>\n",
       "      <th>296626</th>\n",
       "      <td>Finders Keepers</td>\n",
       "      <td>Alexander Yellen</td>\n",
       "      <td>0.132764</td>\n",
       "      <td>2014</td>\n",
       "    </tr>\n",
       "    <tr>\n",
       "      <th>42222</th>\n",
       "      <td>Julia</td>\n",
       "      <td>Fred Zinnemann</td>\n",
       "      <td>0.398651</td>\n",
       "      <td>1977</td>\n",
       "    </tr>\n",
       "    <tr>\n",
       "      <th>7445</th>\n",
       "      <td>Brothers</td>\n",
       "      <td>Jim Sheridan</td>\n",
       "      <td>1.223786</td>\n",
       "      <td>2009</td>\n",
       "    </tr>\n",
       "    <tr>\n",
       "      <th>62320</th>\n",
       "      <td>Home</td>\n",
       "      <td>Yann Arthus-Bertrand</td>\n",
       "      <td>0.688361</td>\n",
       "      <td>2009</td>\n",
       "    </tr>\n",
       "    <tr>\n",
       "      <th>...</th>\n",
       "      <td>...</td>\n",
       "      <td>...</td>\n",
       "      <td>...</td>\n",
       "      <td>...</td>\n",
       "    </tr>\n",
       "    <tr>\n",
       "      <th>39995</th>\n",
       "      <td>Long Weekend</td>\n",
       "      <td>Colin Eggleston</td>\n",
       "      <td>0.047645</td>\n",
       "      <td>1978</td>\n",
       "    </tr>\n",
       "    <tr>\n",
       "      <th>2661</th>\n",
       "      <td>Batman</td>\n",
       "      <td>Leslie H. Martinson</td>\n",
       "      <td>0.410366</td>\n",
       "      <td>1966</td>\n",
       "    </tr>\n",
       "    <tr>\n",
       "      <th>28270</th>\n",
       "      <td>Gambit</td>\n",
       "      <td>Ronald Neame</td>\n",
       "      <td>0.206537</td>\n",
       "      <td>1966</td>\n",
       "    </tr>\n",
       "    <tr>\n",
       "      <th>15598</th>\n",
       "      <td>Alfie</td>\n",
       "      <td>Lewis Gilbert</td>\n",
       "      <td>0.163592</td>\n",
       "      <td>1966</td>\n",
       "    </tr>\n",
       "    <tr>\n",
       "      <th>31602</th>\n",
       "      <td>The Chase</td>\n",
       "      <td>Arthur Penn</td>\n",
       "      <td>0.146402</td>\n",
       "      <td>1966</td>\n",
       "    </tr>\n",
       "  </tbody>\n",
       "</table>\n",
       "<p>294 rows × 4 columns</p>\n",
       "</div>"
      ],
      "text/plain": [
       "         original_title              director  popularity  release_year\n",
       "id                                                                     \n",
       "281778         Survivor             John Lyde    0.188264          2014\n",
       "296626  Finders Keepers      Alexander Yellen    0.132764          2014\n",
       "42222             Julia        Fred Zinnemann    0.398651          1977\n",
       "7445           Brothers          Jim Sheridan    1.223786          2009\n",
       "62320              Home  Yann Arthus-Bertrand    0.688361          2009\n",
       "...                 ...                   ...         ...           ...\n",
       "39995      Long Weekend       Colin Eggleston    0.047645          1978\n",
       "2661             Batman   Leslie H. Martinson    0.410366          1966\n",
       "28270            Gambit          Ronald Neame    0.206537          1966\n",
       "15598             Alfie         Lewis Gilbert    0.163592          1966\n",
       "31602         The Chase           Arthur Penn    0.146402          1966\n",
       "\n",
       "[294 rows x 4 columns]"
      ]
     },
     "execution_count": 114,
     "metadata": {},
     "output_type": "execute_result"
    }
   ],
   "source": [
    "#check original_title to make decision to drop duplicated titles or not.\n",
    "duplicated_rows = popular_director[popular_director['original_title'].duplicated()]\n",
    "duplicated_rows"
   ]
  },
  {
   "cell_type": "code",
   "execution_count": 115,
   "metadata": {},
   "outputs": [
    {
     "data": {
      "text/html": [
       "<div>\n",
       "<style scoped>\n",
       "    .dataframe tbody tr th:only-of-type {\n",
       "        vertical-align: middle;\n",
       "    }\n",
       "\n",
       "    .dataframe tbody tr th {\n",
       "        vertical-align: top;\n",
       "    }\n",
       "\n",
       "    .dataframe thead th {\n",
       "        text-align: right;\n",
       "    }\n",
       "</style>\n",
       "<table border=\"1\" class=\"dataframe\">\n",
       "  <thead>\n",
       "    <tr style=\"text-align: right;\">\n",
       "      <th></th>\n",
       "      <th>original_title</th>\n",
       "      <th>director</th>\n",
       "      <th>popularity</th>\n",
       "      <th>release_year</th>\n",
       "    </tr>\n",
       "    <tr>\n",
       "      <th>id</th>\n",
       "      <th></th>\n",
       "      <th></th>\n",
       "      <th></th>\n",
       "      <th></th>\n",
       "    </tr>\n",
       "  </thead>\n",
       "  <tbody>\n",
       "    <tr>\n",
       "      <th>334074</th>\n",
       "      <td>Survivor</td>\n",
       "      <td>James McTeigue</td>\n",
       "      <td>2.331636</td>\n",
       "      <td>2015</td>\n",
       "    </tr>\n",
       "    <tr>\n",
       "      <th>281778</th>\n",
       "      <td>Survivor</td>\n",
       "      <td>John Lyde</td>\n",
       "      <td>0.188264</td>\n",
       "      <td>2014</td>\n",
       "    </tr>\n",
       "    <tr>\n",
       "      <th>278632</th>\n",
       "      <td>Julia</td>\n",
       "      <td>Matthew A. Brown</td>\n",
       "      <td>0.240776</td>\n",
       "      <td>2014</td>\n",
       "    </tr>\n",
       "    <tr>\n",
       "      <th>42222</th>\n",
       "      <td>Julia</td>\n",
       "      <td>Fred Zinnemann</td>\n",
       "      <td>0.398651</td>\n",
       "      <td>1977</td>\n",
       "    </tr>\n",
       "    <tr>\n",
       "      <th>7351</th>\n",
       "      <td>Julia</td>\n",
       "      <td>Erick Zonca</td>\n",
       "      <td>0.281186</td>\n",
       "      <td>2008</td>\n",
       "    </tr>\n",
       "    <tr>\n",
       "      <th>268</th>\n",
       "      <td>Batman</td>\n",
       "      <td>Tim Burton</td>\n",
       "      <td>2.640852</td>\n",
       "      <td>1989</td>\n",
       "    </tr>\n",
       "    <tr>\n",
       "      <th>2661</th>\n",
       "      <td>Batman</td>\n",
       "      <td>Leslie H. Martinson</td>\n",
       "      <td>0.410366</td>\n",
       "      <td>1966</td>\n",
       "    </tr>\n",
       "  </tbody>\n",
       "</table>\n",
       "</div>"
      ],
      "text/plain": [
       "       original_title             director  popularity  release_year\n",
       "id                                                                  \n",
       "334074       Survivor       James McTeigue    2.331636          2015\n",
       "281778       Survivor            John Lyde    0.188264          2014\n",
       "278632          Julia     Matthew A. Brown    0.240776          2014\n",
       "42222           Julia       Fred Zinnemann    0.398651          1977\n",
       "7351            Julia          Erick Zonca    0.281186          2008\n",
       "268            Batman           Tim Burton    2.640852          1989\n",
       "2661           Batman  Leslie H. Martinson    0.410366          1966"
      ]
     },
     "execution_count": 115,
     "metadata": {},
     "output_type": "execute_result"
    }
   ],
   "source": [
    "#movie titles are for different directors so keep duplicates.\n",
    "popular_director.query('original_title == [\"Survivor\", \"Julia\", \"Batman\"]')"
   ]
  },
  {
   "cell_type": "code",
   "execution_count": 116,
   "metadata": {},
   "outputs": [
    {
     "data": {
      "text/plain": [
       "director\n",
       "Christopher Nolan            61.955206\n",
       "Steven Spielberg             54.378995\n",
       "Peter Jackson                49.067904\n",
       "Ridley Scott                 46.213770\n",
       "Quentin Tarantino            46.059995\n",
       "                               ...    \n",
       "Nacho G. Velilla              0.001317\n",
       "Jean-Xavier de Lestrade       0.001315\n",
       "Zana Briski|Ross Kauffman     0.001117\n",
       "Dibakar Banerjee              0.001115\n",
       "Pascal Thomas                 0.000973\n",
       "Name: popularity, Length: 5067, dtype: float64"
      ]
     },
     "execution_count": 116,
     "metadata": {},
     "output_type": "execute_result"
    }
   ],
   "source": [
    "#arrange directors according to popularity of their films\n",
    "top_directors = popular_director.groupby('director')['popularity'].sum().sort_values(ascending=False)\n",
    "top_directors"
   ]
  },
  {
   "cell_type": "code",
   "execution_count": 117,
   "metadata": {},
   "outputs": [
    {
     "data": {
      "text/plain": [
       "director\n",
       "Christopher Nolan    61.955206\n",
       "Steven Spielberg     54.378995\n",
       "Peter Jackson        49.067904\n",
       "Ridley Scott         46.213770\n",
       "Quentin Tarantino    46.059995\n",
       "George Miller        35.600006\n",
       "Tim Burton           34.648225\n",
       "David Fincher        34.479784\n",
       "Robert Zemeckis      33.619667\n",
       "Colin Trevorrow      33.393773\n",
       "Name: popularity, dtype: float64"
      ]
     },
     "execution_count": 117,
     "metadata": {},
     "output_type": "execute_result"
    }
   ],
   "source": [
    "#top 10 directors\n",
    "top_10_directors = top_directors.iloc[:10]\n",
    "top_10_directors"
   ]
  },
  {
   "cell_type": "code",
   "execution_count": 118,
   "metadata": {},
   "outputs": [],
   "source": [
    "#make a function to bar plot \n",
    "\"\"\"\n",
    "data: the dataframe to get data to .\n",
    "title: (str) the title of the chart.\n",
    "xlabel: (str) the title on x axis.\n",
    "ylabel: (str) the title on y axis.\n",
    "\"\"\"\n",
    "def bar_plot(data, title, xlabel, ylabel):\n",
    "    ind = data.index\n",
    "    plt.bar(ind, data, width=0.35, alpha=0.7)\n",
    "    plt.title(title)\n",
    "    plt.xlabel(xlabel)\n",
    "    plt.ylabel(ylabel)\n",
    "    plt.xticks(ind, rotation=90)\n",
    "    return plt.show()\n"
   ]
  },
  {
   "cell_type": "code",
   "execution_count": 119,
   "metadata": {},
   "outputs": [
    {
     "data": {
      "image/png": "[encoded data removed]",
      "text/plain": [
       "<Figure size 640x480 with 1 Axes>"
      ]
     },
     "metadata": {},
     "output_type": "display_data"
    }
   ],
   "source": [
    "#plot bar chart for top 10 directors\n",
    "bar_plot(top_10_directors, 'Top 10 directors by popular movies', 'Directors', 'Popularity' )"
   ]
  },
  {
   "attachments": {},
   "cell_type": "markdown",
   "metadata": {},
   "source": [
    "So, Christopher Nolan is the top director with most popular movies, as the sum of the popularity of his movies equals 61.955"
   ]
  },
  {
   "attachments": {},
   "cell_type": "markdown",
   "metadata": {},
   "source": [
    "### Research Question 2  (which production company produced the most popular movies?)"
   ]
  },
  {
   "cell_type": "code",
   "execution_count": 120,
   "metadata": {},
   "outputs": [],
   "source": [
    "#make a function to split strings with \"|\" delimeter and drop original string\n",
    "\"\"\"\n",
    "data: the original datafranme includes the column with \"|\" delimeter strings.\n",
    "col: (str) the name of the column.\n",
    "new_col: (str) the name of the new column\n",
    "this function take strings(contains different elements) with delimeter \"|\" in specific column and make a new dataframe and explode this string\n",
    "then, each element in one row in new column, then rename this new column, then merge this new dataframe with the original one, then drop\n",
    "the original column(with \"|\" delimeters).\n",
    "returns data_merged_cleaned: a dataframe with split strings in consecutive rows and drop the original column.\n",
    "\n",
    "\"\"\"\n",
    "def split_func(data, col, new_col):\n",
    "    #make a dataframe with split strings\n",
    "    data_split = data[col].str.split('|', expand=True)\n",
    "    #make a new dataframe with each company in one row\n",
    "    df_split = data_split.stack()\n",
    "    df_split = pd.DataFrame(df_split)\n",
    "    #rename col column with new_col\n",
    "    df_split.rename(columns={0:new_col}, inplace=True)\n",
    "    #merge data_split with data\n",
    "    data_merged = data.merge(df_split, left_on=\"id\", right_on=\"id\")\n",
    "    #drop col column\n",
    "    data_merged_cleaned = data_merged.drop(col, axis=1)\n",
    "    return data_merged_cleaned\n"
   ]
  },
  {
   "cell_type": "code",
   "execution_count": 121,
   "metadata": {},
   "outputs": [
    {
     "data": {
      "text/html": [
       "<div>\n",
       "<style scoped>\n",
       "    .dataframe tbody tr th:only-of-type {\n",
       "        vertical-align: middle;\n",
       "    }\n",
       "\n",
       "    .dataframe tbody tr th {\n",
       "        vertical-align: top;\n",
       "    }\n",
       "\n",
       "    .dataframe thead th {\n",
       "        text-align: right;\n",
       "    }\n",
       "</style>\n",
       "<table border=\"1\" class=\"dataframe\">\n",
       "  <thead>\n",
       "    <tr style=\"text-align: right;\">\n",
       "      <th></th>\n",
       "      <th>popularity</th>\n",
       "      <th>budget</th>\n",
       "      <th>revenue</th>\n",
       "      <th>original_title</th>\n",
       "      <th>cast</th>\n",
       "      <th>director</th>\n",
       "      <th>tagline</th>\n",
       "      <th>runtime</th>\n",
       "      <th>genres</th>\n",
       "      <th>release_date</th>\n",
       "      <th>vote_count</th>\n",
       "      <th>vote_average</th>\n",
       "      <th>release_year</th>\n",
       "      <th>companies</th>\n",
       "    </tr>\n",
       "    <tr>\n",
       "      <th>id</th>\n",
       "      <th></th>\n",
       "      <th></th>\n",
       "      <th></th>\n",
       "      <th></th>\n",
       "      <th></th>\n",
       "      <th></th>\n",
       "      <th></th>\n",
       "      <th></th>\n",
       "      <th></th>\n",
       "      <th></th>\n",
       "      <th></th>\n",
       "      <th></th>\n",
       "      <th></th>\n",
       "      <th></th>\n",
       "    </tr>\n",
       "  </thead>\n",
       "  <tbody>\n",
       "    <tr>\n",
       "      <th>135397</th>\n",
       "      <td>32.985763</td>\n",
       "      <td>150000000</td>\n",
       "      <td>1513528810</td>\n",
       "      <td>Jurassic World</td>\n",
       "      <td>Chris Pratt|Bryce Dallas Howard|Irrfan Khan|Vi...</td>\n",
       "      <td>Colin Trevorrow</td>\n",
       "      <td>The park is open.</td>\n",
       "      <td>124</td>\n",
       "      <td>Action|Adventure|Science Fiction|Thriller</td>\n",
       "      <td>6/9/15</td>\n",
       "      <td>5562</td>\n",
       "      <td>6.5</td>\n",
       "      <td>2015</td>\n",
       "      <td>Universal Studios</td>\n",
       "    </tr>\n",
       "    <tr>\n",
       "      <th>135397</th>\n",
       "      <td>32.985763</td>\n",
       "      <td>150000000</td>\n",
       "      <td>1513528810</td>\n",
       "      <td>Jurassic World</td>\n",
       "      <td>Chris Pratt|Bryce Dallas Howard|Irrfan Khan|Vi...</td>\n",
       "      <td>Colin Trevorrow</td>\n",
       "      <td>The park is open.</td>\n",
       "      <td>124</td>\n",
       "      <td>Action|Adventure|Science Fiction|Thriller</td>\n",
       "      <td>6/9/15</td>\n",
       "      <td>5562</td>\n",
       "      <td>6.5</td>\n",
       "      <td>2015</td>\n",
       "      <td>Amblin Entertainment</td>\n",
       "    </tr>\n",
       "    <tr>\n",
       "      <th>135397</th>\n",
       "      <td>32.985763</td>\n",
       "      <td>150000000</td>\n",
       "      <td>1513528810</td>\n",
       "      <td>Jurassic World</td>\n",
       "      <td>Chris Pratt|Bryce Dallas Howard|Irrfan Khan|Vi...</td>\n",
       "      <td>Colin Trevorrow</td>\n",
       "      <td>The park is open.</td>\n",
       "      <td>124</td>\n",
       "      <td>Action|Adventure|Science Fiction|Thriller</td>\n",
       "      <td>6/9/15</td>\n",
       "      <td>5562</td>\n",
       "      <td>6.5</td>\n",
       "      <td>2015</td>\n",
       "      <td>Legendary Pictures</td>\n",
       "    </tr>\n",
       "    <tr>\n",
       "      <th>135397</th>\n",
       "      <td>32.985763</td>\n",
       "      <td>150000000</td>\n",
       "      <td>1513528810</td>\n",
       "      <td>Jurassic World</td>\n",
       "      <td>Chris Pratt|Bryce Dallas Howard|Irrfan Khan|Vi...</td>\n",
       "      <td>Colin Trevorrow</td>\n",
       "      <td>The park is open.</td>\n",
       "      <td>124</td>\n",
       "      <td>Action|Adventure|Science Fiction|Thriller</td>\n",
       "      <td>6/9/15</td>\n",
       "      <td>5562</td>\n",
       "      <td>6.5</td>\n",
       "      <td>2015</td>\n",
       "      <td>Fuji Television Network</td>\n",
       "    </tr>\n",
       "    <tr>\n",
       "      <th>135397</th>\n",
       "      <td>32.985763</td>\n",
       "      <td>150000000</td>\n",
       "      <td>1513528810</td>\n",
       "      <td>Jurassic World</td>\n",
       "      <td>Chris Pratt|Bryce Dallas Howard|Irrfan Khan|Vi...</td>\n",
       "      <td>Colin Trevorrow</td>\n",
       "      <td>The park is open.</td>\n",
       "      <td>124</td>\n",
       "      <td>Action|Adventure|Science Fiction|Thriller</td>\n",
       "      <td>6/9/15</td>\n",
       "      <td>5562</td>\n",
       "      <td>6.5</td>\n",
       "      <td>2015</td>\n",
       "      <td>Dentsu</td>\n",
       "    </tr>\n",
       "  </tbody>\n",
       "</table>\n",
       "</div>"
      ],
      "text/plain": [
       "        popularity     budget     revenue  original_title  \\\n",
       "id                                                          \n",
       "135397   32.985763  150000000  1513528810  Jurassic World   \n",
       "135397   32.985763  150000000  1513528810  Jurassic World   \n",
       "135397   32.985763  150000000  1513528810  Jurassic World   \n",
       "135397   32.985763  150000000  1513528810  Jurassic World   \n",
       "135397   32.985763  150000000  1513528810  Jurassic World   \n",
       "\n",
       "                                                     cast         director  \\\n",
       "id                                                                           \n",
       "135397  Chris Pratt|Bryce Dallas Howard|Irrfan Khan|Vi...  Colin Trevorrow   \n",
       "135397  Chris Pratt|Bryce Dallas Howard|Irrfan Khan|Vi...  Colin Trevorrow   \n",
       "135397  Chris Pratt|Bryce Dallas Howard|Irrfan Khan|Vi...  Colin Trevorrow   \n",
       "135397  Chris Pratt|Bryce Dallas Howard|Irrfan Khan|Vi...  Colin Trevorrow   \n",
       "135397  Chris Pratt|Bryce Dallas Howard|Irrfan Khan|Vi...  Colin Trevorrow   \n",
       "\n",
       "                  tagline  runtime                                     genres  \\\n",
       "id                                                                              \n",
       "135397  The park is open.      124  Action|Adventure|Science Fiction|Thriller   \n",
       "135397  The park is open.      124  Action|Adventure|Science Fiction|Thriller   \n",
       "135397  The park is open.      124  Action|Adventure|Science Fiction|Thriller   \n",
       "135397  The park is open.      124  Action|Adventure|Science Fiction|Thriller   \n",
       "135397  The park is open.      124  Action|Adventure|Science Fiction|Thriller   \n",
       "\n",
       "       release_date  vote_count  vote_average  release_year  \\\n",
       "id                                                            \n",
       "135397       6/9/15        5562           6.5          2015   \n",
       "135397       6/9/15        5562           6.5          2015   \n",
       "135397       6/9/15        5562           6.5          2015   \n",
       "135397       6/9/15        5562           6.5          2015   \n",
       "135397       6/9/15        5562           6.5          2015   \n",
       "\n",
       "                      companies  \n",
       "id                               \n",
       "135397        Universal Studios  \n",
       "135397     Amblin Entertainment  \n",
       "135397       Legendary Pictures  \n",
       "135397  Fuji Television Network  \n",
       "135397                   Dentsu  "
      ]
     },
     "execution_count": 121,
     "metadata": {},
     "output_type": "execute_result"
    }
   ],
   "source": [
    "#split production companies and check\n",
    "companies_merged_cleaned = split_func(df_cleaned, 'production_companies', 'companies')\n",
    "companies_merged_cleaned.head()"
   ]
  },
  {
   "cell_type": "code",
   "execution_count": 122,
   "metadata": {},
   "outputs": [
    {
     "data": {
      "text/plain": [
       "original_title    9574\n",
       "companies         7879\n",
       "popularity        9796\n",
       "release_year        56\n",
       "dtype: int64"
      ]
     },
     "execution_count": 122,
     "metadata": {},
     "output_type": "execute_result"
    }
   ],
   "source": [
    "#first make a dataframe to answer this question\n",
    "popular_company = companies_merged_cleaned[['original_title', 'companies', 'popularity', 'release_year']]\n",
    "popular_company.nunique()"
   ]
  },
  {
   "cell_type": "code",
   "execution_count": 123,
   "metadata": {},
   "outputs": [
    {
     "data": {
      "text/plain": [
       "companies\n",
       "Warner Bros.                              590.824364\n",
       "Universal Pictures                        499.892618\n",
       "Paramount Pictures                        418.167801\n",
       "Twentieth Century Fox Film Corporation    345.733103\n",
       "Walt Disney Pictures                      295.744474\n",
       "                                             ...    \n",
       "ITVS                                        0.001372\n",
       "Logolite Entertainment                      0.000620\n",
       "School Pictures                             0.000620\n",
       "Parting Shots Media                         0.000620\n",
       "Simcha Productions                          0.000188\n",
       "Name: popularity, Length: 7879, dtype: float64"
      ]
     },
     "execution_count": 123,
     "metadata": {},
     "output_type": "execute_result"
    }
   ],
   "source": [
    "#arrange companies according to popularity of their films\n",
    "top_companies = popular_company.groupby('companies')['popularity'].sum().sort_values(ascending=False)\n",
    "top_companies"
   ]
  },
  {
   "cell_type": "code",
   "execution_count": 124,
   "metadata": {},
   "outputs": [
    {
     "data": {
      "text/plain": [
       "companies\n",
       "Warner Bros.                              590.824364\n",
       "Universal Pictures                        499.892618\n",
       "Paramount Pictures                        418.167801\n",
       "Twentieth Century Fox Film Corporation    345.733103\n",
       "Walt Disney Pictures                      295.744474\n",
       "Columbia Pictures                         285.189093\n",
       "New Line Cinema                           240.243331\n",
       "Metro-Goldwyn-Mayer (MGM)                 180.300491\n",
       "Village Roadshow Pictures                 156.035831\n",
       "Legendary Pictures                        154.757805\n",
       "Name: popularity, dtype: float64"
      ]
     },
     "execution_count": 124,
     "metadata": {},
     "output_type": "execute_result"
    }
   ],
   "source": [
    "#top 10 companies\n",
    "top_10_companies = top_companies.iloc[:10]\n",
    "top_10_companies"
   ]
  },
  {
   "cell_type": "code",
   "execution_count": 125,
   "metadata": {},
   "outputs": [
    {
     "data": {
      "image/png": "[encoded data removed]",
      "text/plain": [
       "<Figure size 640x480 with 1 Axes>"
      ]
     },
     "metadata": {},
     "output_type": "display_data"
    }
   ],
   "source": [
    "#plot bar chart for top 10 companies\n",
    "bar_plot(top_10_companies, 'Top 10 companies by popular movies', 'Companies', 'Popularity')\n"
   ]
  },
  {
   "attachments": {},
   "cell_type": "markdown",
   "metadata": {},
   "source": [
    "So, Warner Bros. is the top Production Company with most popular movies, as the sum of the popularity of it's movies equals 590.824"
   ]
  },
  {
   "attachments": {},
   "cell_type": "markdown",
   "metadata": {},
   "source": [
    "### Research Question 3  (which genre is the most popular among audience?)"
   ]
  },
  {
   "cell_type": "code",
   "execution_count": 126,
   "metadata": {},
   "outputs": [
    {
     "data": {
      "text/html": [
       "<div>\n",
       "<style scoped>\n",
       "    .dataframe tbody tr th:only-of-type {\n",
       "        vertical-align: middle;\n",
       "    }\n",
       "\n",
       "    .dataframe tbody tr th {\n",
       "        vertical-align: top;\n",
       "    }\n",
       "\n",
       "    .dataframe thead th {\n",
       "        text-align: right;\n",
       "    }\n",
       "</style>\n",
       "<table border=\"1\" class=\"dataframe\">\n",
       "  <thead>\n",
       "    <tr style=\"text-align: right;\">\n",
       "      <th></th>\n",
       "      <th>popularity</th>\n",
       "      <th>budget</th>\n",
       "      <th>revenue</th>\n",
       "      <th>original_title</th>\n",
       "      <th>cast</th>\n",
       "      <th>director</th>\n",
       "      <th>tagline</th>\n",
       "      <th>runtime</th>\n",
       "      <th>production_companies</th>\n",
       "      <th>release_date</th>\n",
       "      <th>vote_count</th>\n",
       "      <th>vote_average</th>\n",
       "      <th>release_year</th>\n",
       "      <th>genres_split</th>\n",
       "    </tr>\n",
       "    <tr>\n",
       "      <th>id</th>\n",
       "      <th></th>\n",
       "      <th></th>\n",
       "      <th></th>\n",
       "      <th></th>\n",
       "      <th></th>\n",
       "      <th></th>\n",
       "      <th></th>\n",
       "      <th></th>\n",
       "      <th></th>\n",
       "      <th></th>\n",
       "      <th></th>\n",
       "      <th></th>\n",
       "      <th></th>\n",
       "      <th></th>\n",
       "    </tr>\n",
       "  </thead>\n",
       "  <tbody>\n",
       "    <tr>\n",
       "      <th>135397</th>\n",
       "      <td>32.985763</td>\n",
       "      <td>150000000</td>\n",
       "      <td>1513528810</td>\n",
       "      <td>Jurassic World</td>\n",
       "      <td>Chris Pratt|Bryce Dallas Howard|Irrfan Khan|Vi...</td>\n",
       "      <td>Colin Trevorrow</td>\n",
       "      <td>The park is open.</td>\n",
       "      <td>124</td>\n",
       "      <td>Universal Studios|Amblin Entertainment|Legenda...</td>\n",
       "      <td>6/9/15</td>\n",
       "      <td>5562</td>\n",
       "      <td>6.5</td>\n",
       "      <td>2015</td>\n",
       "      <td>Action</td>\n",
       "    </tr>\n",
       "    <tr>\n",
       "      <th>135397</th>\n",
       "      <td>32.985763</td>\n",
       "      <td>150000000</td>\n",
       "      <td>1513528810</td>\n",
       "      <td>Jurassic World</td>\n",
       "      <td>Chris Pratt|Bryce Dallas Howard|Irrfan Khan|Vi...</td>\n",
       "      <td>Colin Trevorrow</td>\n",
       "      <td>The park is open.</td>\n",
       "      <td>124</td>\n",
       "      <td>Universal Studios|Amblin Entertainment|Legenda...</td>\n",
       "      <td>6/9/15</td>\n",
       "      <td>5562</td>\n",
       "      <td>6.5</td>\n",
       "      <td>2015</td>\n",
       "      <td>Adventure</td>\n",
       "    </tr>\n",
       "    <tr>\n",
       "      <th>135397</th>\n",
       "      <td>32.985763</td>\n",
       "      <td>150000000</td>\n",
       "      <td>1513528810</td>\n",
       "      <td>Jurassic World</td>\n",
       "      <td>Chris Pratt|Bryce Dallas Howard|Irrfan Khan|Vi...</td>\n",
       "      <td>Colin Trevorrow</td>\n",
       "      <td>The park is open.</td>\n",
       "      <td>124</td>\n",
       "      <td>Universal Studios|Amblin Entertainment|Legenda...</td>\n",
       "      <td>6/9/15</td>\n",
       "      <td>5562</td>\n",
       "      <td>6.5</td>\n",
       "      <td>2015</td>\n",
       "      <td>Science Fiction</td>\n",
       "    </tr>\n",
       "    <tr>\n",
       "      <th>135397</th>\n",
       "      <td>32.985763</td>\n",
       "      <td>150000000</td>\n",
       "      <td>1513528810</td>\n",
       "      <td>Jurassic World</td>\n",
       "      <td>Chris Pratt|Bryce Dallas Howard|Irrfan Khan|Vi...</td>\n",
       "      <td>Colin Trevorrow</td>\n",
       "      <td>The park is open.</td>\n",
       "      <td>124</td>\n",
       "      <td>Universal Studios|Amblin Entertainment|Legenda...</td>\n",
       "      <td>6/9/15</td>\n",
       "      <td>5562</td>\n",
       "      <td>6.5</td>\n",
       "      <td>2015</td>\n",
       "      <td>Thriller</td>\n",
       "    </tr>\n",
       "    <tr>\n",
       "      <th>76341</th>\n",
       "      <td>28.419936</td>\n",
       "      <td>150000000</td>\n",
       "      <td>378436354</td>\n",
       "      <td>Mad Max: Fury Road</td>\n",
       "      <td>Tom Hardy|Charlize Theron|Hugh Keays-Byrne|Nic...</td>\n",
       "      <td>George Miller</td>\n",
       "      <td>What a Lovely Day.</td>\n",
       "      <td>120</td>\n",
       "      <td>Village Roadshow Pictures|Kennedy Miller Produ...</td>\n",
       "      <td>5/13/15</td>\n",
       "      <td>6185</td>\n",
       "      <td>7.1</td>\n",
       "      <td>2015</td>\n",
       "      <td>Action</td>\n",
       "    </tr>\n",
       "  </tbody>\n",
       "</table>\n",
       "</div>"
      ],
      "text/plain": [
       "        popularity     budget     revenue      original_title  \\\n",
       "id                                                              \n",
       "135397   32.985763  150000000  1513528810      Jurassic World   \n",
       "135397   32.985763  150000000  1513528810      Jurassic World   \n",
       "135397   32.985763  150000000  1513528810      Jurassic World   \n",
       "135397   32.985763  150000000  1513528810      Jurassic World   \n",
       "76341    28.419936  150000000   378436354  Mad Max: Fury Road   \n",
       "\n",
       "                                                     cast         director  \\\n",
       "id                                                                           \n",
       "135397  Chris Pratt|Bryce Dallas Howard|Irrfan Khan|Vi...  Colin Trevorrow   \n",
       "135397  Chris Pratt|Bryce Dallas Howard|Irrfan Khan|Vi...  Colin Trevorrow   \n",
       "135397  Chris Pratt|Bryce Dallas Howard|Irrfan Khan|Vi...  Colin Trevorrow   \n",
       "135397  Chris Pratt|Bryce Dallas Howard|Irrfan Khan|Vi...  Colin Trevorrow   \n",
       "76341   Tom Hardy|Charlize Theron|Hugh Keays-Byrne|Nic...    George Miller   \n",
       "\n",
       "                   tagline  runtime  \\\n",
       "id                                    \n",
       "135397   The park is open.      124   \n",
       "135397   The park is open.      124   \n",
       "135397   The park is open.      124   \n",
       "135397   The park is open.      124   \n",
       "76341   What a Lovely Day.      120   \n",
       "\n",
       "                                     production_companies release_date  \\\n",
       "id                                                                       \n",
       "135397  Universal Studios|Amblin Entertainment|Legenda...       6/9/15   \n",
       "135397  Universal Studios|Amblin Entertainment|Legenda...       6/9/15   \n",
       "135397  Universal Studios|Amblin Entertainment|Legenda...       6/9/15   \n",
       "135397  Universal Studios|Amblin Entertainment|Legenda...       6/9/15   \n",
       "76341   Village Roadshow Pictures|Kennedy Miller Produ...      5/13/15   \n",
       "\n",
       "        vote_count  vote_average  release_year     genres_split  \n",
       "id                                                               \n",
       "135397        5562           6.5          2015           Action  \n",
       "135397        5562           6.5          2015        Adventure  \n",
       "135397        5562           6.5          2015  Science Fiction  \n",
       "135397        5562           6.5          2015         Thriller  \n",
       "76341         6185           7.1          2015           Action  "
      ]
     },
     "execution_count": 126,
     "metadata": {},
     "output_type": "execute_result"
    }
   ],
   "source": [
    "#split genres and check\n",
    "genres_merged_cleaned = split_func(df_cleaned, 'genres', 'genres_split')\n",
    "genres_merged_cleaned.head()"
   ]
  },
  {
   "cell_type": "code",
   "execution_count": 127,
   "metadata": {},
   "outputs": [
    {
     "data": {
      "text/plain": [
       "genres_split\n",
       "Drama              2815.517715\n",
       "Comedy             2247.759649\n",
       "Action             2208.238255\n",
       "Thriller           2155.723620\n",
       "Adventure          1697.915054\n",
       "Science Fiction    1230.902062\n",
       "Romance            1013.644468\n",
       "Crime              1008.635823\n",
       "Family              968.388793\n",
       "Fantasy             909.441171\n",
       "Horror              761.788804\n",
       "Animation           595.674975\n",
       "Mystery             558.909827\n",
       "Music               198.827043\n",
       "War                 196.474450\n",
       "History             192.362605\n",
       "Western              97.451554\n",
       "Documentary          94.344445\n",
       "TV Movie             45.239592\n",
       "Foreign              36.001309\n",
       "Name: popularity, dtype: float64"
      ]
     },
     "execution_count": 127,
     "metadata": {},
     "output_type": "execute_result"
    }
   ],
   "source": [
    "#arrange genres according to popularity of their films\n",
    "top_genres = genres_merged_cleaned.groupby('genres_split')['popularity'].sum().sort_values(ascending=False)\n",
    "top_genres"
   ]
  },
  {
   "cell_type": "code",
   "execution_count": 128,
   "metadata": {},
   "outputs": [
    {
     "data": {
      "image/png": "[encoded data removed]",
      "text/plain": [
       "<Figure size 640x480 with 1 Axes>"
      ]
     },
     "metadata": {},
     "output_type": "display_data"
    }
   ],
   "source": [
    "#plot arrangment of genres according to popularity\n",
    "bar_plot(top_genres, 'Arrangment of genres according to popularity of movies', 'Genres', 'Popularity')\n"
   ]
  },
  {
   "attachments": {},
   "cell_type": "markdown",
   "metadata": {},
   "source": [
    "So, Drama is the most popular genre among audience as the sum os popularity of it's movies equals 2815.517\n"
   ]
  },
  {
   "attachments": {},
   "cell_type": "markdown",
   "metadata": {},
   "source": [
    "### Research Question 4  (in which year released the highest number of the movies?)"
   ]
  },
  {
   "cell_type": "code",
   "execution_count": 129,
   "metadata": {},
   "outputs": [
    {
     "data": {
      "text/plain": [
       "2014    700\n",
       "2013    659\n",
       "2015    629\n",
       "2012    588\n",
       "2011    540\n",
       "Name: release_year, dtype: int64"
      ]
     },
     "execution_count": 129,
     "metadata": {},
     "output_type": "execute_result"
    }
   ],
   "source": [
    "#make dataframe with number of movies in each year\n",
    "df_years = df_cleaned['release_year'].value_counts()\n",
    "df_years.head()"
   ]
  },
  {
   "cell_type": "code",
   "execution_count": 130,
   "metadata": {},
   "outputs": [
    {
     "data": {
      "text/plain": [
       "2014    700\n",
       "2013    659\n",
       "2015    629\n",
       "2012    588\n",
       "2011    540\n",
       "2009    533\n",
       "2008    496\n",
       "2010    489\n",
       "2007    438\n",
       "2006    408\n",
       "Name: release_year, dtype: int64"
      ]
     },
     "execution_count": 130,
     "metadata": {},
     "output_type": "execute_result"
    }
   ],
   "source": [
    "#get the top 10 years\n",
    "top_10_years = df_years.iloc[:10]\n",
    "top_10_years"
   ]
  },
  {
   "cell_type": "code",
   "execution_count": 131,
   "metadata": {},
   "outputs": [
    {
     "data": {
      "image/png": "[encoded data removed]",
      "text/plain": [
       "<Figure size 640x480 with 1 Axes>"
      ]
     },
     "metadata": {},
     "output_type": "display_data"
    }
   ],
   "source": [
    "#plot bar chart for number of movies released in the top 10 years\n",
    "bar_plot(top_10_years,'Number of movies released in top 10 years', 'Years', 'Number of movies')"
   ]
  },
  {
   "attachments": {},
   "cell_type": "markdown",
   "metadata": {},
   "source": [
    "So, 2014 is the top year in releasing movies with 700 movies."
   ]
  },
  {
   "attachments": {},
   "cell_type": "markdown",
   "metadata": {},
   "source": [
    "### Research Question 5  (which production company achieved the highest profits over years?)"
   ]
  },
  {
   "cell_type": "code",
   "execution_count": 132,
   "metadata": {},
   "outputs": [
    {
     "data": {
      "text/html": [
       "<div>\n",
       "<style scoped>\n",
       "    .dataframe tbody tr th:only-of-type {\n",
       "        vertical-align: middle;\n",
       "    }\n",
       "\n",
       "    .dataframe tbody tr th {\n",
       "        vertical-align: top;\n",
       "    }\n",
       "\n",
       "    .dataframe thead th {\n",
       "        text-align: right;\n",
       "    }\n",
       "</style>\n",
       "<table border=\"1\" class=\"dataframe\">\n",
       "  <thead>\n",
       "    <tr style=\"text-align: right;\">\n",
       "      <th></th>\n",
       "      <th>popularity</th>\n",
       "      <th>budget</th>\n",
       "      <th>revenue</th>\n",
       "      <th>original_title</th>\n",
       "      <th>cast</th>\n",
       "      <th>director</th>\n",
       "      <th>tagline</th>\n",
       "      <th>runtime</th>\n",
       "      <th>genres</th>\n",
       "      <th>release_date</th>\n",
       "      <th>vote_count</th>\n",
       "      <th>vote_average</th>\n",
       "      <th>release_year</th>\n",
       "      <th>companies</th>\n",
       "      <th>profit</th>\n",
       "    </tr>\n",
       "    <tr>\n",
       "      <th>id</th>\n",
       "      <th></th>\n",
       "      <th></th>\n",
       "      <th></th>\n",
       "      <th></th>\n",
       "      <th></th>\n",
       "      <th></th>\n",
       "      <th></th>\n",
       "      <th></th>\n",
       "      <th></th>\n",
       "      <th></th>\n",
       "      <th></th>\n",
       "      <th></th>\n",
       "      <th></th>\n",
       "      <th></th>\n",
       "      <th></th>\n",
       "    </tr>\n",
       "  </thead>\n",
       "  <tbody>\n",
       "    <tr>\n",
       "      <th>135397</th>\n",
       "      <td>32.985763</td>\n",
       "      <td>150000000</td>\n",
       "      <td>1513528810</td>\n",
       "      <td>Jurassic World</td>\n",
       "      <td>Chris Pratt|Bryce Dallas Howard|Irrfan Khan|Vi...</td>\n",
       "      <td>Colin Trevorrow</td>\n",
       "      <td>The park is open.</td>\n",
       "      <td>124</td>\n",
       "      <td>Action|Adventure|Science Fiction|Thriller</td>\n",
       "      <td>6/9/15</td>\n",
       "      <td>5562</td>\n",
       "      <td>6.5</td>\n",
       "      <td>2015</td>\n",
       "      <td>Universal Studios</td>\n",
       "      <td>1363528810</td>\n",
       "    </tr>\n",
       "    <tr>\n",
       "      <th>135397</th>\n",
       "      <td>32.985763</td>\n",
       "      <td>150000000</td>\n",
       "      <td>1513528810</td>\n",
       "      <td>Jurassic World</td>\n",
       "      <td>Chris Pratt|Bryce Dallas Howard|Irrfan Khan|Vi...</td>\n",
       "      <td>Colin Trevorrow</td>\n",
       "      <td>The park is open.</td>\n",
       "      <td>124</td>\n",
       "      <td>Action|Adventure|Science Fiction|Thriller</td>\n",
       "      <td>6/9/15</td>\n",
       "      <td>5562</td>\n",
       "      <td>6.5</td>\n",
       "      <td>2015</td>\n",
       "      <td>Amblin Entertainment</td>\n",
       "      <td>1363528810</td>\n",
       "    </tr>\n",
       "    <tr>\n",
       "      <th>135397</th>\n",
       "      <td>32.985763</td>\n",
       "      <td>150000000</td>\n",
       "      <td>1513528810</td>\n",
       "      <td>Jurassic World</td>\n",
       "      <td>Chris Pratt|Bryce Dallas Howard|Irrfan Khan|Vi...</td>\n",
       "      <td>Colin Trevorrow</td>\n",
       "      <td>The park is open.</td>\n",
       "      <td>124</td>\n",
       "      <td>Action|Adventure|Science Fiction|Thriller</td>\n",
       "      <td>6/9/15</td>\n",
       "      <td>5562</td>\n",
       "      <td>6.5</td>\n",
       "      <td>2015</td>\n",
       "      <td>Legendary Pictures</td>\n",
       "      <td>1363528810</td>\n",
       "    </tr>\n",
       "    <tr>\n",
       "      <th>135397</th>\n",
       "      <td>32.985763</td>\n",
       "      <td>150000000</td>\n",
       "      <td>1513528810</td>\n",
       "      <td>Jurassic World</td>\n",
       "      <td>Chris Pratt|Bryce Dallas Howard|Irrfan Khan|Vi...</td>\n",
       "      <td>Colin Trevorrow</td>\n",
       "      <td>The park is open.</td>\n",
       "      <td>124</td>\n",
       "      <td>Action|Adventure|Science Fiction|Thriller</td>\n",
       "      <td>6/9/15</td>\n",
       "      <td>5562</td>\n",
       "      <td>6.5</td>\n",
       "      <td>2015</td>\n",
       "      <td>Fuji Television Network</td>\n",
       "      <td>1363528810</td>\n",
       "    </tr>\n",
       "    <tr>\n",
       "      <th>135397</th>\n",
       "      <td>32.985763</td>\n",
       "      <td>150000000</td>\n",
       "      <td>1513528810</td>\n",
       "      <td>Jurassic World</td>\n",
       "      <td>Chris Pratt|Bryce Dallas Howard|Irrfan Khan|Vi...</td>\n",
       "      <td>Colin Trevorrow</td>\n",
       "      <td>The park is open.</td>\n",
       "      <td>124</td>\n",
       "      <td>Action|Adventure|Science Fiction|Thriller</td>\n",
       "      <td>6/9/15</td>\n",
       "      <td>5562</td>\n",
       "      <td>6.5</td>\n",
       "      <td>2015</td>\n",
       "      <td>Dentsu</td>\n",
       "      <td>1363528810</td>\n",
       "    </tr>\n",
       "  </tbody>\n",
       "</table>\n",
       "</div>"
      ],
      "text/plain": [
       "        popularity     budget     revenue  original_title  \\\n",
       "id                                                          \n",
       "135397   32.985763  150000000  1513528810  Jurassic World   \n",
       "135397   32.985763  150000000  1513528810  Jurassic World   \n",
       "135397   32.985763  150000000  1513528810  Jurassic World   \n",
       "135397   32.985763  150000000  1513528810  Jurassic World   \n",
       "135397   32.985763  150000000  1513528810  Jurassic World   \n",
       "\n",
       "                                                     cast         director  \\\n",
       "id                                                                           \n",
       "135397  Chris Pratt|Bryce Dallas Howard|Irrfan Khan|Vi...  Colin Trevorrow   \n",
       "135397  Chris Pratt|Bryce Dallas Howard|Irrfan Khan|Vi...  Colin Trevorrow   \n",
       "135397  Chris Pratt|Bryce Dallas Howard|Irrfan Khan|Vi...  Colin Trevorrow   \n",
       "135397  Chris Pratt|Bryce Dallas Howard|Irrfan Khan|Vi...  Colin Trevorrow   \n",
       "135397  Chris Pratt|Bryce Dallas Howard|Irrfan Khan|Vi...  Colin Trevorrow   \n",
       "\n",
       "                  tagline  runtime                                     genres  \\\n",
       "id                                                                              \n",
       "135397  The park is open.      124  Action|Adventure|Science Fiction|Thriller   \n",
       "135397  The park is open.      124  Action|Adventure|Science Fiction|Thriller   \n",
       "135397  The park is open.      124  Action|Adventure|Science Fiction|Thriller   \n",
       "135397  The park is open.      124  Action|Adventure|Science Fiction|Thriller   \n",
       "135397  The park is open.      124  Action|Adventure|Science Fiction|Thriller   \n",
       "\n",
       "       release_date  vote_count  vote_average  release_year  \\\n",
       "id                                                            \n",
       "135397       6/9/15        5562           6.5          2015   \n",
       "135397       6/9/15        5562           6.5          2015   \n",
       "135397       6/9/15        5562           6.5          2015   \n",
       "135397       6/9/15        5562           6.5          2015   \n",
       "135397       6/9/15        5562           6.5          2015   \n",
       "\n",
       "                      companies      profit  \n",
       "id                                           \n",
       "135397        Universal Studios  1363528810  \n",
       "135397     Amblin Entertainment  1363528810  \n",
       "135397       Legendary Pictures  1363528810  \n",
       "135397  Fuji Television Network  1363528810  \n",
       "135397                   Dentsu  1363528810  "
      ]
     },
     "execution_count": 132,
     "metadata": {},
     "output_type": "execute_result"
    }
   ],
   "source": [
    "#add new column called profit and check\n",
    "companies_merged_cleaned['profit'] = companies_merged_cleaned['revenue']-companies_merged_cleaned['budget']\n",
    "companies_merged_cleaned.head()"
   ]
  },
  {
   "cell_type": "code",
   "execution_count": 133,
   "metadata": {},
   "outputs": [
    {
     "data": {
      "text/plain": [
       "companies\n",
       "\"DIA\" Productions GmbH & Co. KG      8350926\n",
       "# Lexyn Productions                        0\n",
       "10 West Studios                            0\n",
       "100 Feet Productions               -10000000\n",
       "1019 Entertainment                    801508\n",
       "                                      ...   \n",
       "uFilm                               16439255\n",
       "uFund                              -12000000\n",
       "verture Films                              0\n",
       "Ã–sterreichischer Rundfunk (ORF)       11294\n",
       "í”„ë¡œë•ì…˜M                               0\n",
       "Name: profit, Length: 7879, dtype: int64"
      ]
     },
     "execution_count": 133,
     "metadata": {},
     "output_type": "execute_result"
    }
   ],
   "source": [
    "#group data with companies and get sum of profits for each and check\n",
    "companies_profit = companies_merged_cleaned.groupby('companies')['profit'].sum()\n",
    "companies_profit"
   ]
  },
  {
   "cell_type": "code",
   "execution_count": 134,
   "metadata": {},
   "outputs": [
    {
     "data": {
      "text/plain": [
       "companies\n",
       "Warner Bros.                              34703823331\n",
       "Universal Pictures                        32575422791\n",
       "Paramount Pictures                        27538581413\n",
       "Twentieth Century Fox Film Corporation    27402754987\n",
       "Walt Disney Pictures                      22008457637\n",
       "                                             ...     \n",
       "Silver Bullet Productions (II)             -165710090\n",
       "France 2 CinÃ©ma                           -193953476\n",
       "Wild Bunch                                 -245161142\n",
       "Franchise Pictures                         -359214359\n",
       "Boram Entertainment Inc.                   -413912431\n",
       "Name: profit, Length: 7879, dtype: int64"
      ]
     },
     "execution_count": 134,
     "metadata": {},
     "output_type": "execute_result"
    }
   ],
   "source": [
    "#sort companies according profit \n",
    "top_profit_companies = companies_profit.sort_values(ascending=False)\n",
    "top_profit_companies"
   ]
  },
  {
   "cell_type": "code",
   "execution_count": 135,
   "metadata": {},
   "outputs": [
    {
     "data": {
      "text/plain": [
       "companies\n",
       "Warner Bros.                              34703823331\n",
       "Universal Pictures                        32575422791\n",
       "Paramount Pictures                        27538581413\n",
       "Twentieth Century Fox Film Corporation    27402754987\n",
       "Walt Disney Pictures                      22008457637\n",
       "Columbia Pictures                         18252662429\n",
       "New Line Cinema                           14082723398\n",
       "Amblin Entertainment                      12443416032\n",
       "DreamWorks SKG                            10079564846\n",
       "DreamWorks Animation                       8332549256\n",
       "Name: profit, dtype: int64"
      ]
     },
     "execution_count": 135,
     "metadata": {},
     "output_type": "execute_result"
    }
   ],
   "source": [
    "#get top 10 companies in profit\n",
    "top_10_profit_companies = top_profit_companies.iloc[:10]\n",
    "top_10_profit_companies"
   ]
  },
  {
   "cell_type": "code",
   "execution_count": 136,
   "metadata": {},
   "outputs": [
    {
     "data": {
      "image/png": "[encoded data removed]",
      "text/plain": [
       "<Figure size 640x480 with 1 Axes>"
      ]
     },
     "metadata": {},
     "output_type": "display_data"
    }
   ],
   "source": [
    "#plot top 10 companies in profits\n",
    "bar_plot(top_10_profit_companies, 'Top 10 companies in profits', 'Companies', 'Profits')"
   ]
  },
  {
   "attachments": {},
   "cell_type": "markdown",
   "metadata": {},
   "source": [
    "So, Warner Bros. achieved the highest profits over years with profits equals 34703823331 dollars"
   ]
  },
  {
   "attachments": {},
   "cell_type": "markdown",
   "metadata": {},
   "source": [
    "limitations, around half of data has budget = zero , if i drop zero budget i will lose half of my data, i should replace it with the median but median of the data also equals zero"
   ]
  },
  {
   "attachments": {},
   "cell_type": "markdown",
   "metadata": {},
   "source": [
    "### Research Question 6  (which genre achieved the highest profits over years?)"
   ]
  },
  {
   "cell_type": "code",
   "execution_count": 137,
   "metadata": {},
   "outputs": [
    {
     "data": {
      "text/html": [
       "<div>\n",
       "<style scoped>\n",
       "    .dataframe tbody tr th:only-of-type {\n",
       "        vertical-align: middle;\n",
       "    }\n",
       "\n",
       "    .dataframe tbody tr th {\n",
       "        vertical-align: top;\n",
       "    }\n",
       "\n",
       "    .dataframe thead th {\n",
       "        text-align: right;\n",
       "    }\n",
       "</style>\n",
       "<table border=\"1\" class=\"dataframe\">\n",
       "  <thead>\n",
       "    <tr style=\"text-align: right;\">\n",
       "      <th></th>\n",
       "      <th>popularity</th>\n",
       "      <th>budget</th>\n",
       "      <th>revenue</th>\n",
       "      <th>original_title</th>\n",
       "      <th>cast</th>\n",
       "      <th>director</th>\n",
       "      <th>tagline</th>\n",
       "      <th>runtime</th>\n",
       "      <th>production_companies</th>\n",
       "      <th>release_date</th>\n",
       "      <th>vote_count</th>\n",
       "      <th>vote_average</th>\n",
       "      <th>release_year</th>\n",
       "      <th>genres_split</th>\n",
       "      <th>profit</th>\n",
       "    </tr>\n",
       "    <tr>\n",
       "      <th>id</th>\n",
       "      <th></th>\n",
       "      <th></th>\n",
       "      <th></th>\n",
       "      <th></th>\n",
       "      <th></th>\n",
       "      <th></th>\n",
       "      <th></th>\n",
       "      <th></th>\n",
       "      <th></th>\n",
       "      <th></th>\n",
       "      <th></th>\n",
       "      <th></th>\n",
       "      <th></th>\n",
       "      <th></th>\n",
       "      <th></th>\n",
       "    </tr>\n",
       "  </thead>\n",
       "  <tbody>\n",
       "    <tr>\n",
       "      <th>135397</th>\n",
       "      <td>32.985763</td>\n",
       "      <td>150000000</td>\n",
       "      <td>1513528810</td>\n",
       "      <td>Jurassic World</td>\n",
       "      <td>Chris Pratt|Bryce Dallas Howard|Irrfan Khan|Vi...</td>\n",
       "      <td>Colin Trevorrow</td>\n",
       "      <td>The park is open.</td>\n",
       "      <td>124</td>\n",
       "      <td>Universal Studios|Amblin Entertainment|Legenda...</td>\n",
       "      <td>6/9/15</td>\n",
       "      <td>5562</td>\n",
       "      <td>6.5</td>\n",
       "      <td>2015</td>\n",
       "      <td>Action</td>\n",
       "      <td>1363528810</td>\n",
       "    </tr>\n",
       "    <tr>\n",
       "      <th>135397</th>\n",
       "      <td>32.985763</td>\n",
       "      <td>150000000</td>\n",
       "      <td>1513528810</td>\n",
       "      <td>Jurassic World</td>\n",
       "      <td>Chris Pratt|Bryce Dallas Howard|Irrfan Khan|Vi...</td>\n",
       "      <td>Colin Trevorrow</td>\n",
       "      <td>The park is open.</td>\n",
       "      <td>124</td>\n",
       "      <td>Universal Studios|Amblin Entertainment|Legenda...</td>\n",
       "      <td>6/9/15</td>\n",
       "      <td>5562</td>\n",
       "      <td>6.5</td>\n",
       "      <td>2015</td>\n",
       "      <td>Adventure</td>\n",
       "      <td>1363528810</td>\n",
       "    </tr>\n",
       "    <tr>\n",
       "      <th>135397</th>\n",
       "      <td>32.985763</td>\n",
       "      <td>150000000</td>\n",
       "      <td>1513528810</td>\n",
       "      <td>Jurassic World</td>\n",
       "      <td>Chris Pratt|Bryce Dallas Howard|Irrfan Khan|Vi...</td>\n",
       "      <td>Colin Trevorrow</td>\n",
       "      <td>The park is open.</td>\n",
       "      <td>124</td>\n",
       "      <td>Universal Studios|Amblin Entertainment|Legenda...</td>\n",
       "      <td>6/9/15</td>\n",
       "      <td>5562</td>\n",
       "      <td>6.5</td>\n",
       "      <td>2015</td>\n",
       "      <td>Science Fiction</td>\n",
       "      <td>1363528810</td>\n",
       "    </tr>\n",
       "    <tr>\n",
       "      <th>135397</th>\n",
       "      <td>32.985763</td>\n",
       "      <td>150000000</td>\n",
       "      <td>1513528810</td>\n",
       "      <td>Jurassic World</td>\n",
       "      <td>Chris Pratt|Bryce Dallas Howard|Irrfan Khan|Vi...</td>\n",
       "      <td>Colin Trevorrow</td>\n",
       "      <td>The park is open.</td>\n",
       "      <td>124</td>\n",
       "      <td>Universal Studios|Amblin Entertainment|Legenda...</td>\n",
       "      <td>6/9/15</td>\n",
       "      <td>5562</td>\n",
       "      <td>6.5</td>\n",
       "      <td>2015</td>\n",
       "      <td>Thriller</td>\n",
       "      <td>1363528810</td>\n",
       "    </tr>\n",
       "    <tr>\n",
       "      <th>76341</th>\n",
       "      <td>28.419936</td>\n",
       "      <td>150000000</td>\n",
       "      <td>378436354</td>\n",
       "      <td>Mad Max: Fury Road</td>\n",
       "      <td>Tom Hardy|Charlize Theron|Hugh Keays-Byrne|Nic...</td>\n",
       "      <td>George Miller</td>\n",
       "      <td>What a Lovely Day.</td>\n",
       "      <td>120</td>\n",
       "      <td>Village Roadshow Pictures|Kennedy Miller Produ...</td>\n",
       "      <td>5/13/15</td>\n",
       "      <td>6185</td>\n",
       "      <td>7.1</td>\n",
       "      <td>2015</td>\n",
       "      <td>Action</td>\n",
       "      <td>228436354</td>\n",
       "    </tr>\n",
       "  </tbody>\n",
       "</table>\n",
       "</div>"
      ],
      "text/plain": [
       "        popularity     budget     revenue      original_title  \\\n",
       "id                                                              \n",
       "135397   32.985763  150000000  1513528810      Jurassic World   \n",
       "135397   32.985763  150000000  1513528810      Jurassic World   \n",
       "135397   32.985763  150000000  1513528810      Jurassic World   \n",
       "135397   32.985763  150000000  1513528810      Jurassic World   \n",
       "76341    28.419936  150000000   378436354  Mad Max: Fury Road   \n",
       "\n",
       "                                                     cast         director  \\\n",
       "id                                                                           \n",
       "135397  Chris Pratt|Bryce Dallas Howard|Irrfan Khan|Vi...  Colin Trevorrow   \n",
       "135397  Chris Pratt|Bryce Dallas Howard|Irrfan Khan|Vi...  Colin Trevorrow   \n",
       "135397  Chris Pratt|Bryce Dallas Howard|Irrfan Khan|Vi...  Colin Trevorrow   \n",
       "135397  Chris Pratt|Bryce Dallas Howard|Irrfan Khan|Vi...  Colin Trevorrow   \n",
       "76341   Tom Hardy|Charlize Theron|Hugh Keays-Byrne|Nic...    George Miller   \n",
       "\n",
       "                   tagline  runtime  \\\n",
       "id                                    \n",
       "135397   The park is open.      124   \n",
       "135397   The park is open.      124   \n",
       "135397   The park is open.      124   \n",
       "135397   The park is open.      124   \n",
       "76341   What a Lovely Day.      120   \n",
       "\n",
       "                                     production_companies release_date  \\\n",
       "id                                                                       \n",
       "135397  Universal Studios|Amblin Entertainment|Legenda...       6/9/15   \n",
       "135397  Universal Studios|Amblin Entertainment|Legenda...       6/9/15   \n",
       "135397  Universal Studios|Amblin Entertainment|Legenda...       6/9/15   \n",
       "135397  Universal Studios|Amblin Entertainment|Legenda...       6/9/15   \n",
       "76341   Village Roadshow Pictures|Kennedy Miller Produ...      5/13/15   \n",
       "\n",
       "        vote_count  vote_average  release_year     genres_split      profit  \n",
       "id                                                                           \n",
       "135397        5562           6.5          2015           Action  1363528810  \n",
       "135397        5562           6.5          2015        Adventure  1363528810  \n",
       "135397        5562           6.5          2015  Science Fiction  1363528810  \n",
       "135397        5562           6.5          2015         Thriller  1363528810  \n",
       "76341         6185           7.1          2015           Action   228436354  "
      ]
     },
     "execution_count": 137,
     "metadata": {},
     "output_type": "execute_result"
    }
   ],
   "source": [
    "#add new column called porfit and check\n",
    "genres_merged_cleaned['profit'] = genres_merged_cleaned['revenue'] - genres_merged_cleaned['budget']\n",
    "genres_merged_cleaned.head()"
   ]
  },
  {
   "cell_type": "code",
   "execution_count": 138,
   "metadata": {},
   "outputs": [
    {
     "data": {
      "text/plain": [
       "genres_split\n",
       "Action       107439517424\n",
       "Adventure    111199018978\n",
       "Animation     36415300151\n",
       "Comedy        91898042240\n",
       "Crime         33450381145\n",
       "Name: profit, dtype: int64"
      ]
     },
     "execution_count": 138,
     "metadata": {},
     "output_type": "execute_result"
    }
   ],
   "source": [
    "#group data with genres and get sum of profits for each and check\n",
    "genres_profit = genres_merged_cleaned.groupby('genres_split')['profit'].sum()\n",
    "genres_profit.head()"
   ]
  },
  {
   "cell_type": "code",
   "execution_count": 139,
   "metadata": {},
   "outputs": [
    {
     "data": {
      "text/plain": [
       "genres_split\n",
       "Adventure    111199018978\n",
       "Action       107439517424\n",
       "Comedy        91898042240\n",
       "Drama         82593320653\n",
       "Thriller      71281744013\n",
       "Name: profit, dtype: int64"
      ]
     },
     "execution_count": 139,
     "metadata": {},
     "output_type": "execute_result"
    }
   ],
   "source": [
    "#sort companies according profit \n",
    "top_profit_genres = genres_profit.sort_values(ascending=False)\n",
    "top_profit_genres.head()"
   ]
  },
  {
   "cell_type": "code",
   "execution_count": 140,
   "metadata": {},
   "outputs": [
    {
     "data": {
      "image/png": "[encoded data removed]",
      "text/plain": [
       "<Figure size 640x480 with 1 Axes>"
      ]
     },
     "metadata": {},
     "output_type": "display_data"
    }
   ],
   "source": [
    "#plot arrangement of the genres according to profits\n",
    "bar_plot(top_profit_genres, 'Arrangement of genres according to profits of movies', 'Genres', 'Profits')"
   ]
  },
  {
   "attachments": {},
   "cell_type": "markdown",
   "metadata": {},
   "source": [
    "So, Adventures achieved the highest profits over years with profits equals 111199018978 dollars"
   ]
  },
  {
   "attachments": {},
   "cell_type": "markdown",
   "metadata": {},
   "source": [
    "limitations, around half of data has budget = zero , if i drop zero budget i will lose half of my data, i should replace it with the median but median of the data also equals zero"
   ]
  },
  {
   "attachments": {},
   "cell_type": "markdown",
   "metadata": {},
   "source": [
    "### Research Question 7  (relations between variables?)"
   ]
  },
  {
   "cell_type": "code",
   "execution_count": 141,
   "metadata": {},
   "outputs": [],
   "source": [
    "#make a function to plot scatter plots for different variables\n",
    "\"\"\"\n",
    "x: value on X-axis\n",
    "y: value on Y-axis\n",
    "title: (str) the title of the scatter plot\n",
    "xlabel: (str) the label of x-axis\n",
    "ylabel: (str) the label of y-axis\n",
    "return scatter plot for specific values x & y \n",
    "\"\"\"\n",
    "def scatter_plot(x, y, title, xlabel, ylabel):\n",
    "    plt.scatter(x, y, alpha=0.8)\n",
    "    plt.title(title)\n",
    "    plt.xlabel(xlabel)\n",
    "    plt.ylabel(ylabel)\n",
    "    return plt.show()"
   ]
  },
  {
   "cell_type": "code",
   "execution_count": 142,
   "metadata": {},
   "outputs": [
    {
     "data": {
      "image/png": "[encoded data removed]",
      "text/plain": [
       "<Figure size 640x480 with 1 Axes>"
      ]
     },
     "metadata": {},
     "output_type": "display_data"
    }
   ],
   "source": [
    "#plot scatter between vote_average and popularity\n",
    "scatter_plot(df_cleaned['vote_average'], df_cleaned['popularity'], 'Relation between average vote and popularity', 'Average vote', 'Popularity')"
   ]
  },
  {
   "attachments": {},
   "cell_type": "markdown",
   "metadata": {},
   "source": [
    "the relation between average vote and popularity is positive correlation"
   ]
  },
  {
   "cell_type": "code",
   "execution_count": 143,
   "metadata": {},
   "outputs": [
    {
     "data": {
      "image/png": "[encoded data removed]",
      "text/plain": [
       "<Figure size 640x480 with 1 Axes>"
      ]
     },
     "metadata": {},
     "output_type": "display_data"
    }
   ],
   "source": [
    "#relation between budget and revenue\n",
    "scatter_plot(df_cleaned['budget'], df_cleaned['revenue'], 'Relation between budget and revenue', 'Budget', 'Revenue')"
   ]
  },
  {
   "attachments": {},
   "cell_type": "markdown",
   "metadata": {},
   "source": [
    "-the relation between budget and revenue is positive correlation.\n",
    "<br>\n",
    "-limitation, around half of data has zero budget."
   ]
  },
  {
   "cell_type": "code",
   "execution_count": 144,
   "metadata": {},
   "outputs": [
    {
     "data": {
      "image/png": "[encoded data removed]",
      "text/plain": [
       "<Figure size 640x480 with 1 Axes>"
      ]
     },
     "metadata": {},
     "output_type": "display_data"
    }
   ],
   "source": [
    "#relation between budget and popularity\n",
    "scatter_plot(df_cleaned['budget'], df_cleaned['popularity'], 'Relation between budget and popularity', 'Budget', 'Popularity')"
   ]
  },
  {
   "attachments": {},
   "cell_type": "markdown",
   "metadata": {},
   "source": [
    "-the relation between budget and popularity is positive correlation.\n",
    "<br>\n",
    "-limitation, around half of data has zero budget."
   ]
  },
  {
   "attachments": {},
   "cell_type": "markdown",
   "metadata": {},
   "source": [
    "<a id='conclusions'></a>\n",
    "## Conclusions\n",
    "\n",
    "> **Tip**: Finally, summarize your findings and the results that have been performed. Make sure that you are clear with regards to the limitations of your exploration. If you haven't done any statistical tests, do not imply any statistical conclusions. And make sure you avoid implying causation from correlation!\n",
    "\n",
    "> **Tip**: Once you are satisfied with your work, you should save a copy of the report in HTML or PDF form via the **File** > **Download as** submenu. Before exporting your report, check over it to make sure that the flow of the report is complete. You should probably remove all of the \"Tip\" quotes like this one so that the presentation is as tidy as possible. Congratulations!"
   ]
  },
  {
   "attachments": {},
   "cell_type": "markdown",
   "metadata": {},
   "source": [
    "### Research Question 1 (which director made the most popular movies?)"
   ]
  },
  {
   "attachments": {},
   "cell_type": "markdown",
   "metadata": {},
   "source": [
    "So, Christopher Nolan is the top director with most popular movies, as the sum of the popularity of his movies equals 61.955"
   ]
  },
  {
   "attachments": {},
   "cell_type": "markdown",
   "metadata": {},
   "source": [
    "### Research Question 2  (which production company produced the most popular movies?)"
   ]
  },
  {
   "attachments": {},
   "cell_type": "markdown",
   "metadata": {},
   "source": [
    "So, Warner Bros. is the top Production Company with most popular movies, as the sum of the popularity of it's movies equals 590.824"
   ]
  },
  {
   "attachments": {},
   "cell_type": "markdown",
   "metadata": {},
   "source": [
    "### Research Question 3  (which genre is the most popular among audience?)"
   ]
  },
  {
   "attachments": {},
   "cell_type": "markdown",
   "metadata": {},
   "source": [
    "So, Drama is the most popular genre among audience as the sum os popularity of it's movies equals 2815.517"
   ]
  },
  {
   "attachments": {},
   "cell_type": "markdown",
   "metadata": {},
   "source": [
    "### Research Question 4  (In which year released the highest number of the movies?)"
   ]
  },
  {
   "attachments": {},
   "cell_type": "markdown",
   "metadata": {},
   "source": [
    "So, 2014 is the top year in releasing movies with 700 movies."
   ]
  },
  {
   "attachments": {},
   "cell_type": "markdown",
   "metadata": {},
   "source": [
    "### Research Question 5  (which production company achieved the highest profits over years?)"
   ]
  },
  {
   "attachments": {},
   "cell_type": "markdown",
   "metadata": {},
   "source": [
    "So, Warner Bros. achieved the highest profits over years with profits equals 34703823331 dollars"
   ]
  },
  {
   "attachments": {},
   "cell_type": "markdown",
   "metadata": {},
   "source": [
    "limitations, around half of data has budget = zero ,if i drop zero budget i will lose half of my data, i should replace it with the median but median of the data also equals zero"
   ]
  },
  {
   "attachments": {},
   "cell_type": "markdown",
   "metadata": {},
   "source": [
    "### Research Question 6  (which genre achieved the highest profits over years?)"
   ]
  },
  {
   "attachments": {},
   "cell_type": "markdown",
   "metadata": {},
   "source": [
    "So, Adventures achieved the highest profits over years with profits equals 111199018978 dollars"
   ]
  },
  {
   "attachments": {},
   "cell_type": "markdown",
   "metadata": {},
   "source": [
    "limitations, around half of data has budget = zero , if i drop zero budget i will lose half of my data, i should replace it with the median but median of the data also equals zero"
   ]
  },
  {
   "attachments": {},
   "cell_type": "markdown",
   "metadata": {},
   "source": [
    "### Research Question 7  (relations between variables?)"
   ]
  },
  {
   "attachments": {},
   "cell_type": "markdown",
   "metadata": {},
   "source": [
    "the relation between average vote and popularity is positive correlation"
   ]
  },
  {
   "attachments": {},
   "cell_type": "markdown",
   "metadata": {},
   "source": [
    "-the relation between budget and revenue is positive correlation.\n",
    "<br>\n",
    "-limitation, around half of data has zero budget."
   ]
  },
  {
   "attachments": {},
   "cell_type": "markdown",
   "metadata": {},
   "source": [
    "-the relation between budget and popularity is positive correlation.\n",
    "<br>\n",
    "-limitation, around half of data has zero budget."
   ]
  },
  {
   "attachments": {},
   "cell_type": "markdown",
   "metadata": {},
   "source": [
    "\n",
    "## Resources"
   ]
  },
  {
   "attachments": {},
   "cell_type": "markdown",
   "metadata": {},
   "source": [
    "1-Udacity Classrooom\n",
    "<br>\n",
    "2-stackover flow: to write in new lines in juputer noyebook. https://stackoverflow.com/questions/41906199/how-to-make-a-new-line-in-a-jupyter-markdown-cell\n",
    "<br>\n",
    "3-fwd community: to split genres with \"|\" delimeter and make dataframe .https://nfpdiscussions.udacity.com/t/tmdb-movie-dataset-problem-with-cast-and-genres-columns/144587/4\n",
    "<br>\n",
    " and another source from fwd community : https://nfpdiscussions.udacity.com/t/split-with-column-genres-and-take-the-first-genre-error/162090/9\n",
    "<br>\n",
    "4- fwd community : to merge genres_df with the cleaned_df . https://nfpdiscussions.udacity.com/t/how-can-i-analyze-the-genres-column/168506/3\n",
    "<br>\n",
    "5-Stackoverflow: to rorate x-tick in bar charts. https://stackoverflow.com/questions/3464359/is-it-possible-to-wrap-the-text-of-xticks-in-matplotlib-in-python\n",
    "<br>\n",
    "6- webinar of the project and it's slides\n",
    "<br>\n",
    "7- geeksforgeeks: to add percentage to pie chart. https://www.geeksforgeeks.org/how-to-create-pie-chart-from-pandas-dataframe/\n",
    "<br>\n",
    "8- fwd community: to make a function for repititive codes. https://nfpdiscussions.udacity.com/t/project-investigate-a-dataset-review-function-of-block-code/164956/6"
   ]
  }
 ],
 "metadata": {
  "kernelspec": {
   "display_name": "base",
   "language": "python",
   "name": "python3"
  },
  "language_info": {
   "codemirror_mode": {
    "name": "ipython",
    "version": 3
   },
   "file_extension": ".py",
   "mimetype": "text/x-python",
   "name": "python",
   "nbconvert_exporter": "python",
   "pygments_lexer": "ipython3",
   "version": "3.9.13"
  },
  "vscode": {
   "interpreter": {
    "hash": "fc7195094588f9ffe7f2cb450b33c671b55118b808292f3cbb9d4614bdc9804f"
   }
  }
 },
 "nbformat": 4,
 "nbformat_minor": 2
}
